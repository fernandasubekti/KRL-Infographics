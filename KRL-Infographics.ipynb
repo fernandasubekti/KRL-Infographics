{
 "cells": [
  {
   "cell_type": "markdown",
   "metadata": {},
   "source": [
    "## NB:\n",
    "Terima kasih kepada Apri di Braincore.id yang telah membantu saya menyelesaikan projek KRL Infographics ini dengan cara memberi insights yang tidak terpikirkan oleh saya dalam menganalisis terhadap dataset yang telah ada."
   ]
  },
  {
   "cell_type": "markdown",
   "metadata": {
    "id": "SGihlHbXBS8i"
   },
   "source": [
    "## Import the Libraries"
   ]
  },
  {
   "cell_type": "code",
   "execution_count": 1,
   "metadata": {
    "executionInfo": {
     "elapsed": 2074,
     "status": "ok",
     "timestamp": 1712250497014,
     "user": {
      "displayName": "fikaaw braincore",
      "userId": "06038774151748129223"
     },
     "user_tz": -420
    },
    "id": "Dxetc689BS8l"
   },
   "outputs": [],
   "source": [
    "import pandas as pd\n",
    "import matplotlib.pyplot as plt\n",
    "import seaborn as sns\n",
    "import numpy as np\n",
    "from datetime import datetime, timedelta"
   ]
  },
  {
   "cell_type": "markdown",
   "metadata": {
    "id": "66hyBMbaBS8m"
   },
   "source": [
    "## Read the Dataset"
   ]
  },
  {
   "cell_type": "code",
   "execution_count": 2,
   "metadata": {
    "colab": {
     "base_uri": "https://localhost:8080/",
     "height": 304
    },
    "executionInfo": {
     "elapsed": 596,
     "status": "error",
     "timestamp": 1712250497606,
     "user": {
      "displayName": "fikaaw braincore",
      "userId": "06038774151748129223"
     },
     "user_tz": -420
    },
    "id": "1iKe26R5BS8n",
    "outputId": "1747bb1a-1732-45de-b60f-d3854489fb57"
   },
   "outputs": [],
   "source": [
    "schedule = pd.read_csv('dataset/schedule.csv')\n",
    "station = pd.read_csv('dataset/station.csv')"
   ]
  },
  {
   "cell_type": "markdown",
   "metadata": {
    "id": "ng0jf_l4BS8n"
   },
   "source": [
    "## Preprocessing & Feature Engineering"
   ]
  },
  {
   "cell_type": "code",
   "execution_count": 3,
   "metadata": {
    "executionInfo": {
     "elapsed": 16,
     "status": "aborted",
     "timestamp": 1712250497606,
     "user": {
      "displayName": "fikaaw braincore",
      "userId": "06038774151748129223"
     },
     "user_tz": -420
    },
    "id": "GqM9YhE1BS8n"
   },
   "outputs": [],
   "source": [
    "schedule['destination_time'] = schedule['destination_time'].apply(lambda x: datetime.strptime(x, '%H:%M:%S'))\n",
    "schedule['time_estimated'] = schedule['time_estimated'].apply(lambda x: datetime.strptime(x, '%H:%M:%S'))"
   ]
  },
  {
   "cell_type": "code",
   "execution_count": 4,
   "metadata": {
    "executionInfo": {
     "elapsed": 16,
     "status": "aborted",
     "timestamp": 1712250497607,
     "user": {
      "displayName": "fikaaw braincore",
      "userId": "06038774151748129223"
     },
     "user_tz": -420
    },
    "id": "oHZR3MG5BS8o"
   },
   "outputs": [],
   "source": [
    "df = pd.merge(schedule, station, left_on=\"station_id\", right_on=\"id\", how=\"inner\")\n",
    "df.drop(['id_y','updated_at_x','updated_at_y', 'daop', 'fg_enable','have_schedule'], axis=1, inplace=True)\n",
    "df['origin'] = df['route'].apply(lambda x: x.split(\"-\")[0])\n",
    "df = df.rename(columns={\"name\": \"station_name\"})"
   ]
  },
  {
   "cell_type": "code",
   "execution_count": 5,
   "metadata": {
    "executionInfo": {
     "elapsed": 16,
     "status": "aborted",
     "timestamp": 1712250497607,
     "user": {
      "displayName": "fikaaw braincore",
      "userId": "06038774151748129223"
     },
     "user_tz": -420
    },
    "id": "x96pvELtBS8o"
   },
   "outputs": [
    {
     "name": "stdout",
     "output_type": "stream",
     "text": [
      "<class 'pandas.core.frame.DataFrame'>\n",
      "RangeIndex: 18065 entries, 0 to 18064\n",
      "Data columns (total 11 columns):\n",
      " #   Column            Non-Null Count  Dtype         \n",
      "---  ------            --------------  -----         \n",
      " 0   id_x              18065 non-null  object        \n",
      " 1   station_id        18065 non-null  object        \n",
      " 2   train_id          18065 non-null  object        \n",
      " 3   line              18065 non-null  object        \n",
      " 4   route             18065 non-null  object        \n",
      " 5   color             18065 non-null  object        \n",
      " 6   destination       18065 non-null  object        \n",
      " 7   time_estimated    18065 non-null  datetime64[ns]\n",
      " 8   destination_time  18065 non-null  datetime64[ns]\n",
      " 9   station_name      18065 non-null  object        \n",
      " 10  origin            18065 non-null  object        \n",
      "dtypes: datetime64[ns](2), object(9)\n",
      "memory usage: 1.5+ MB\n"
     ]
    }
   ],
   "source": [
    "df.info()"
   ]
  },
  {
   "cell_type": "code",
   "execution_count": 6,
   "metadata": {
    "executionInfo": {
     "elapsed": 16,
     "status": "aborted",
     "timestamp": 1712250497607,
     "user": {
      "displayName": "fikaaw braincore",
      "userId": "06038774151748129223"
     },
     "user_tz": -420
    },
    "id": "LQ4-5dP8BS8o"
   },
   "outputs": [
    {
     "data": {
      "text/html": [
       "<div>\n",
       "<style scoped>\n",
       "    .dataframe tbody tr th:only-of-type {\n",
       "        vertical-align: middle;\n",
       "    }\n",
       "\n",
       "    .dataframe tbody tr th {\n",
       "        vertical-align: top;\n",
       "    }\n",
       "\n",
       "    .dataframe thead th {\n",
       "        text-align: right;\n",
       "    }\n",
       "</style>\n",
       "<table border=\"1\" class=\"dataframe\">\n",
       "  <thead>\n",
       "    <tr style=\"text-align: right;\">\n",
       "      <th></th>\n",
       "      <th>id_x</th>\n",
       "      <th>station_id</th>\n",
       "      <th>train_id</th>\n",
       "      <th>line</th>\n",
       "      <th>route</th>\n",
       "      <th>color</th>\n",
       "      <th>destination</th>\n",
       "      <th>time_estimated</th>\n",
       "      <th>destination_time</th>\n",
       "      <th>station_name</th>\n",
       "      <th>origin</th>\n",
       "    </tr>\n",
       "  </thead>\n",
       "  <tbody>\n",
       "    <tr>\n",
       "      <th>0</th>\n",
       "      <td>AC-2400</td>\n",
       "      <td>AC</td>\n",
       "      <td>2400</td>\n",
       "      <td>COMMUTER LINE TANJUNGPRIUK</td>\n",
       "      <td>JAKARTAKOTA-TANJUNGPRIUK</td>\n",
       "      <td>#DD0067</td>\n",
       "      <td>TANJUNGPRIUK</td>\n",
       "      <td>1900-01-01 06:07:00</td>\n",
       "      <td>1900-01-01 06:16:00</td>\n",
       "      <td>ANCOL</td>\n",
       "      <td>JAKARTAKOTA</td>\n",
       "    </tr>\n",
       "    <tr>\n",
       "      <th>1</th>\n",
       "      <td>AC-2401</td>\n",
       "      <td>AC</td>\n",
       "      <td>2401</td>\n",
       "      <td>COMMUTER LINE TANJUNGPRIUK</td>\n",
       "      <td>TANJUNGPRIUK-JAKARTAKOTA</td>\n",
       "      <td>#DD0067</td>\n",
       "      <td>JAKARTAKOTA</td>\n",
       "      <td>1900-01-01 06:34:00</td>\n",
       "      <td>1900-01-01 06:42:00</td>\n",
       "      <td>ANCOL</td>\n",
       "      <td>TANJUNGPRIUK</td>\n",
       "    </tr>\n",
       "    <tr>\n",
       "      <th>2</th>\n",
       "      <td>AC-2402</td>\n",
       "      <td>AC</td>\n",
       "      <td>2402</td>\n",
       "      <td>COMMUTER LINE TANJUNGPRIUK</td>\n",
       "      <td>JAKARTAKOTA-TANJUNGPRIUK</td>\n",
       "      <td>#DD0067</td>\n",
       "      <td>TANJUNGPRIUK</td>\n",
       "      <td>1900-01-01 06:24:00</td>\n",
       "      <td>1900-01-01 06:33:00</td>\n",
       "      <td>ANCOL</td>\n",
       "      <td>JAKARTAKOTA</td>\n",
       "    </tr>\n",
       "    <tr>\n",
       "      <th>3</th>\n",
       "      <td>AC-2403</td>\n",
       "      <td>AC</td>\n",
       "      <td>2403</td>\n",
       "      <td>COMMUTER LINE TANJUNGPRIUK</td>\n",
       "      <td>TANJUNGPRIUK-JAKARTAKOTA</td>\n",
       "      <td>#DD0067</td>\n",
       "      <td>JAKARTAKOTA</td>\n",
       "      <td>1900-01-01 06:50:00</td>\n",
       "      <td>1900-01-01 06:58:00</td>\n",
       "      <td>ANCOL</td>\n",
       "      <td>TANJUNGPRIUK</td>\n",
       "    </tr>\n",
       "    <tr>\n",
       "      <th>4</th>\n",
       "      <td>AC-2404</td>\n",
       "      <td>AC</td>\n",
       "      <td>2404</td>\n",
       "      <td>COMMUTER LINE TANJUNGPRIUK</td>\n",
       "      <td>JAKARTAKOTA-TANJUNGPRIUK</td>\n",
       "      <td>#DD0067</td>\n",
       "      <td>TANJUNGPRIUK</td>\n",
       "      <td>1900-01-01 06:43:00</td>\n",
       "      <td>1900-01-01 06:52:00</td>\n",
       "      <td>ANCOL</td>\n",
       "      <td>JAKARTAKOTA</td>\n",
       "    </tr>\n",
       "  </tbody>\n",
       "</table>\n",
       "</div>"
      ],
      "text/plain": [
       "      id_x station_id train_id                        line  \\\n",
       "0  AC-2400         AC     2400  COMMUTER LINE TANJUNGPRIUK   \n",
       "1  AC-2401         AC     2401  COMMUTER LINE TANJUNGPRIUK   \n",
       "2  AC-2402         AC     2402  COMMUTER LINE TANJUNGPRIUK   \n",
       "3  AC-2403         AC     2403  COMMUTER LINE TANJUNGPRIUK   \n",
       "4  AC-2404         AC     2404  COMMUTER LINE TANJUNGPRIUK   \n",
       "\n",
       "                      route    color   destination      time_estimated  \\\n",
       "0  JAKARTAKOTA-TANJUNGPRIUK  #DD0067  TANJUNGPRIUK 1900-01-01 06:07:00   \n",
       "1  TANJUNGPRIUK-JAKARTAKOTA  #DD0067   JAKARTAKOTA 1900-01-01 06:34:00   \n",
       "2  JAKARTAKOTA-TANJUNGPRIUK  #DD0067  TANJUNGPRIUK 1900-01-01 06:24:00   \n",
       "3  TANJUNGPRIUK-JAKARTAKOTA  #DD0067   JAKARTAKOTA 1900-01-01 06:50:00   \n",
       "4  JAKARTAKOTA-TANJUNGPRIUK  #DD0067  TANJUNGPRIUK 1900-01-01 06:43:00   \n",
       "\n",
       "     destination_time station_name        origin  \n",
       "0 1900-01-01 06:16:00        ANCOL   JAKARTAKOTA  \n",
       "1 1900-01-01 06:42:00        ANCOL  TANJUNGPRIUK  \n",
       "2 1900-01-01 06:33:00        ANCOL   JAKARTAKOTA  \n",
       "3 1900-01-01 06:58:00        ANCOL  TANJUNGPRIUK  \n",
       "4 1900-01-01 06:52:00        ANCOL   JAKARTAKOTA  "
      ]
     },
     "execution_count": 6,
     "metadata": {},
     "output_type": "execute_result"
    }
   ],
   "source": [
    "df.head()"
   ]
  },
  {
   "cell_type": "code",
   "execution_count": 7,
   "metadata": {
    "executionInfo": {
     "elapsed": 16,
     "status": "aborted",
     "timestamp": 1712250497607,
     "user": {
      "displayName": "fikaaw braincore",
      "userId": "06038774151748129223"
     },
     "user_tz": -420
    },
    "id": "k7ndAR0QBS8p"
   },
   "outputs": [],
   "source": [
    "# add hourly schedule\n",
    "df['time_estimated_hour'] = df['time_estimated'].dt.hour"
   ]
  },
  {
   "cell_type": "code",
   "execution_count": 8,
   "metadata": {
    "executionInfo": {
     "elapsed": 16,
     "status": "aborted",
     "timestamp": 1712250497607,
     "user": {
      "displayName": "fikaaw braincore",
      "userId": "06038774151748129223"
     },
     "user_tz": -420
    },
    "id": "PSpWNCsdBS8p"
   },
   "outputs": [],
   "source": [
    "def calculate_feat_ab(row):\n",
    "    departure = row['time_estimated']\n",
    "    arrival = row['destination_time']\n",
    "\n",
    "    if departure > arrival:\n",
    "        arrival += timedelta(hours=24)\n",
    "\n",
    "    time_difference = arrival - departure\n",
    "    return time_difference.total_seconds() / 60\n",
    "\n",
    "# add estimated trip time\n",
    "df['estimated_trip_time'] = df.apply(calculate_feat_ab, axis=1)"
   ]
  },
  {
   "cell_type": "code",
   "execution_count": 9,
   "metadata": {
    "executionInfo": {
     "elapsed": 16,
     "status": "aborted",
     "timestamp": 1712250497607,
     "user": {
      "displayName": "fikaaw braincore",
      "userId": "06038774151748129223"
     },
     "user_tz": -420
    },
    "id": "vWlCKHAeBS8p"
   },
   "outputs": [
    {
     "data": {
      "text/html": [
       "<div>\n",
       "<style scoped>\n",
       "    .dataframe tbody tr th:only-of-type {\n",
       "        vertical-align: middle;\n",
       "    }\n",
       "\n",
       "    .dataframe tbody tr th {\n",
       "        vertical-align: top;\n",
       "    }\n",
       "\n",
       "    .dataframe thead th {\n",
       "        text-align: right;\n",
       "    }\n",
       "</style>\n",
       "<table border=\"1\" class=\"dataframe\">\n",
       "  <thead>\n",
       "    <tr style=\"text-align: right;\">\n",
       "      <th></th>\n",
       "      <th>line</th>\n",
       "      <th>route</th>\n",
       "      <th>train_id</th>\n",
       "      <th>no_station</th>\n",
       "      <th>estimated_trip_time</th>\n",
       "    </tr>\n",
       "  </thead>\n",
       "  <tbody>\n",
       "    <tr>\n",
       "      <th>0</th>\n",
       "      <td>COMMUTER LINE BOGOR</td>\n",
       "      <td>BOGOR-DEPOK</td>\n",
       "      <td>1063C</td>\n",
       "      <td>4</td>\n",
       "      <td>28.0</td>\n",
       "    </tr>\n",
       "    <tr>\n",
       "      <th>1</th>\n",
       "      <td>COMMUTER LINE BOGOR</td>\n",
       "      <td>BOGOR-DEPOK</td>\n",
       "      <td>1065C</td>\n",
       "      <td>4</td>\n",
       "      <td>28.0</td>\n",
       "    </tr>\n",
       "    <tr>\n",
       "      <th>2</th>\n",
       "      <td>COMMUTER LINE BOGOR</td>\n",
       "      <td>BOGOR-DEPOK</td>\n",
       "      <td>1067C</td>\n",
       "      <td>4</td>\n",
       "      <td>28.0</td>\n",
       "    </tr>\n",
       "    <tr>\n",
       "      <th>3</th>\n",
       "      <td>COMMUTER LINE BOGOR</td>\n",
       "      <td>BOGOR-DEPOK</td>\n",
       "      <td>1069C</td>\n",
       "      <td>4</td>\n",
       "      <td>28.0</td>\n",
       "    </tr>\n",
       "    <tr>\n",
       "      <th>4</th>\n",
       "      <td>COMMUTER LINE BOGOR</td>\n",
       "      <td>BOGOR-DEPOK</td>\n",
       "      <td>1381C</td>\n",
       "      <td>4</td>\n",
       "      <td>28.0</td>\n",
       "    </tr>\n",
       "    <tr>\n",
       "      <th>...</th>\n",
       "      <td>...</td>\n",
       "      <td>...</td>\n",
       "      <td>...</td>\n",
       "      <td>...</td>\n",
       "      <td>...</td>\n",
       "    </tr>\n",
       "    <tr>\n",
       "      <th>1279</th>\n",
       "      <td>PRAMBANAN EKSPRES (PRAMEKS)</td>\n",
       "      <td>KUTOARJO-YOGYAKARTA</td>\n",
       "      <td>556</td>\n",
       "      <td>4</td>\n",
       "      <td>67.0</td>\n",
       "    </tr>\n",
       "    <tr>\n",
       "      <th>1280</th>\n",
       "      <td>PRAMBANAN EKSPRES (PRAMEKS)</td>\n",
       "      <td>KUTOARJO-YOGYAKARTA</td>\n",
       "      <td>558</td>\n",
       "      <td>4</td>\n",
       "      <td>70.0</td>\n",
       "    </tr>\n",
       "    <tr>\n",
       "      <th>1281</th>\n",
       "      <td>PRAMBANAN EKSPRES (PRAMEKS)</td>\n",
       "      <td>YOGYAKARTA-KUTOARJO</td>\n",
       "      <td>551</td>\n",
       "      <td>4</td>\n",
       "      <td>67.0</td>\n",
       "    </tr>\n",
       "    <tr>\n",
       "      <th>1282</th>\n",
       "      <td>PRAMBANAN EKSPRES (PRAMEKS)</td>\n",
       "      <td>YOGYAKARTA-KUTOARJO</td>\n",
       "      <td>553</td>\n",
       "      <td>4</td>\n",
       "      <td>81.0</td>\n",
       "    </tr>\n",
       "    <tr>\n",
       "      <th>1283</th>\n",
       "      <td>PRAMBANAN EKSPRES (PRAMEKS)</td>\n",
       "      <td>YOGYAKARTA-KUTOARJO</td>\n",
       "      <td>555</td>\n",
       "      <td>4</td>\n",
       "      <td>81.0</td>\n",
       "    </tr>\n",
       "  </tbody>\n",
       "</table>\n",
       "<p>1284 rows × 5 columns</p>\n",
       "</div>"
      ],
      "text/plain": [
       "                             line                route train_id  no_station  \\\n",
       "0             COMMUTER LINE BOGOR          BOGOR-DEPOK    1063C           4   \n",
       "1             COMMUTER LINE BOGOR          BOGOR-DEPOK    1065C           4   \n",
       "2             COMMUTER LINE BOGOR          BOGOR-DEPOK    1067C           4   \n",
       "3             COMMUTER LINE BOGOR          BOGOR-DEPOK    1069C           4   \n",
       "4             COMMUTER LINE BOGOR          BOGOR-DEPOK    1381C           4   \n",
       "...                           ...                  ...      ...         ...   \n",
       "1279  PRAMBANAN EKSPRES (PRAMEKS)  KUTOARJO-YOGYAKARTA      556           4   \n",
       "1280  PRAMBANAN EKSPRES (PRAMEKS)  KUTOARJO-YOGYAKARTA      558           4   \n",
       "1281  PRAMBANAN EKSPRES (PRAMEKS)  YOGYAKARTA-KUTOARJO      551           4   \n",
       "1282  PRAMBANAN EKSPRES (PRAMEKS)  YOGYAKARTA-KUTOARJO      553           4   \n",
       "1283  PRAMBANAN EKSPRES (PRAMEKS)  YOGYAKARTA-KUTOARJO      555           4   \n",
       "\n",
       "      estimated_trip_time  \n",
       "0                    28.0  \n",
       "1                    28.0  \n",
       "2                    28.0  \n",
       "3                    28.0  \n",
       "4                    28.0  \n",
       "...                   ...  \n",
       "1279                 67.0  \n",
       "1280                 70.0  \n",
       "1281                 67.0  \n",
       "1282                 81.0  \n",
       "1283                 81.0  \n",
       "\n",
       "[1284 rows x 5 columns]"
      ]
     },
     "execution_count": 9,
     "metadata": {},
     "output_type": "execute_result"
    }
   ],
   "source": [
    "# create train table\n",
    "train1 = df.copy()\n",
    "train2 = df.copy()\n",
    "\n",
    "train1 = train1.groupby(['line','route','train_id'])['station_name'].nunique().reset_index(name='no_station')\n",
    "train2 = train2.groupby(['line','route','train_id'])['estimated_trip_time'].max().reset_index()\n",
    "\n",
    "train = pd.merge(train1, train2, on=\"train_id\", how=\"inner\")\n",
    "train = train.drop(['line_y','route_y'], axis=1)\n",
    "train = train.rename(columns={\"line_x\": \"line\", \"route_x\": \"route\"})\n",
    "train"
   ]
  },
  {
   "cell_type": "markdown",
   "metadata": {
    "id": "hj5C8tJuBS8q"
   },
   "source": [
    "## EDA"
   ]
  },
  {
   "cell_type": "markdown",
   "metadata": {
    "id": "7eWTbUXdBS8q"
   },
   "source": [
    "### 1. Rute dengan kereta paling banyak"
   ]
  },
  {
   "cell_type": "code",
   "execution_count": 10,
   "metadata": {
    "executionInfo": {
     "elapsed": 15,
     "status": "aborted",
     "timestamp": 1712250497607,
     "user": {
      "displayName": "fikaaw braincore",
      "userId": "06038774151748129223"
     },
     "user_tz": -420
    },
    "id": "AD5qbTr1BS8q"
   },
   "outputs": [
    {
     "data": {
      "text/plain": [
       "route\n",
       "JAKARTAKOTA-BOGOR           120\n",
       "BOGOR-JAKARTAKOTA           116\n",
       "TANGERANG-DURI               61\n",
       "DURI-TANGERANG               61\n",
       "TANAHABANG-RANGKASBITUNG     59\n",
       "                           ... \n",
       "ANGKE-TAMBUN                  1\n",
       "MANGGARAI-TANAH ABANG         1\n",
       "JAKARTAKOTA-CIKARANG          1\n",
       "CAKUNG-CIKARANG               1\n",
       "MANGGARAI-DEPOK               1\n",
       "Name: train_id, Length: 69, dtype: int64"
      ]
     },
     "execution_count": 10,
     "metadata": {},
     "output_type": "execute_result"
    }
   ],
   "source": [
    "df.groupby('route')['train_id'].nunique().sort_values(ascending=False)"
   ]
  },
  {
   "cell_type": "code",
   "execution_count": 11,
   "metadata": {
    "executionInfo": {
     "elapsed": 16,
     "status": "aborted",
     "timestamp": 1712250497608,
     "user": {
      "displayName": "fikaaw braincore",
      "userId": "06038774151748129223"
     },
     "user_tz": -420
    },
    "id": "7GjrDmh8BS8r"
   },
   "outputs": [
    {
     "data": {
      "image/png": "[encoded data removed]",
      "text/plain": [
       "<Figure size 640x480 with 1 Axes>"
      ]
     },
     "metadata": {},
     "output_type": "display_data"
    }
   ],
   "source": [
    "df.groupby('route')['train_id'].nunique().sort_values(ascending=False).plot(kind='hist')\n",
    "plt.show()"
   ]
  },
  {
   "cell_type": "markdown",
   "metadata": {
    "id": "CTxs_miQBS8r"
   },
   "source": [
    "### 2. Banyaknya kereta yang dilalui dari setiap stasiun"
   ]
  },
  {
   "cell_type": "code",
   "execution_count": 12,
   "metadata": {
    "executionInfo": {
     "elapsed": 16,
     "status": "aborted",
     "timestamp": 1712250497608,
     "user": {
      "displayName": "fikaaw braincore",
      "userId": "06038774151748129223"
     },
     "user_tz": -420
    },
    "id": "tLG3E55QBS8r"
   },
   "outputs": [
    {
     "data": {
      "text/plain": [
       "route\n",
       "CIKARANG-KAMPUNGBANDAN      26\n",
       "KAMPUNGBANDAN-CIKARANG      25\n",
       "TAMBUN-KAMPUNGBANDAN        23\n",
       "BOGOR-JAKARTAKOTA           23\n",
       "JAKARTAKOTA-BOGOR           23\n",
       "                            ..\n",
       "JAKARTAKOTA-TANJUNGPRIUK     3\n",
       "DEPOK-NAMBO                  3\n",
       "TANJUNGPRIUK-JAKARTAKOTA     3\n",
       "DEPOK-BOJONGGEDE             2\n",
       "RANGKASBITUNG-MERAK          1\n",
       "Name: station_name, Length: 69, dtype: int64"
      ]
     },
     "execution_count": 12,
     "metadata": {},
     "output_type": "execute_result"
    }
   ],
   "source": [
    "df.groupby('route')['station_name'].nunique().sort_values(ascending=False)"
   ]
  },
  {
   "cell_type": "code",
   "execution_count": 13,
   "metadata": {
    "executionInfo": {
     "elapsed": 16,
     "status": "aborted",
     "timestamp": 1712250497608,
     "user": {
      "displayName": "fikaaw braincore",
      "userId": "06038774151748129223"
     },
     "user_tz": -420
    },
    "id": "LC8efcx6BS8r"
   },
   "outputs": [
    {
     "data": {
      "image/png": "[encoded data removed]",
      "text/plain": [
       "<Figure size 640x480 with 1 Axes>"
      ]
     },
     "metadata": {},
     "output_type": "display_data"
    }
   ],
   "source": [
    "df.groupby('route')['station_name'].nunique().sort_values(ascending=False).plot(kind='hist')\n",
    "plt.title('Number of Station in Each Route')\n",
    "plt.show()"
   ]
  },
  {
   "cell_type": "markdown",
   "metadata": {
    "id": "Xt2bHlTeBS8s"
   },
   "source": [
    "### 3. Stasiun dengan jadwal kereta tersibuk"
   ]
  },
  {
   "cell_type": "code",
   "execution_count": 14,
   "metadata": {
    "executionInfo": {
     "elapsed": 16,
     "status": "aborted",
     "timestamp": 1712250497608,
     "user": {
      "displayName": "fikaaw braincore",
      "userId": "06038774151748129223"
     },
     "user_tz": -420
    },
    "id": "6T80kL0WBS8s"
   },
   "outputs": [
    {
     "data": {
      "text/plain": [
       "station_name\n",
       "MANGGARAI     532\n",
       "TANAHABANG    363\n",
       "DURI          357\n",
       "CITAYAM       356\n",
       "DEPOK         347\n",
       "             ... \n",
       "NAMBO          12\n",
       "WATES           8\n",
       "WOJO            8\n",
       "JENAR           8\n",
       "KUTOARJO        4\n",
       "Name: train_id, Length: 100, dtype: int64"
      ]
     },
     "execution_count": 14,
     "metadata": {},
     "output_type": "execute_result"
    }
   ],
   "source": [
    "df.groupby('station_name')['train_id'].nunique().sort_values(ascending=False)"
   ]
  },
  {
   "cell_type": "code",
   "execution_count": 15,
   "metadata": {
    "executionInfo": {
     "elapsed": 16,
     "status": "aborted",
     "timestamp": 1712250497608,
     "user": {
      "displayName": "fikaaw braincore",
      "userId": "06038774151748129223"
     },
     "user_tz": -420
    },
    "id": "QVjmRsEiBS8s"
   },
   "outputs": [
    {
     "data": {
      "image/png": "[encoded data removed]",
      "text/plain": [
       "<Figure size 640x480 with 1 Axes>"
      ]
     },
     "metadata": {},
     "output_type": "display_data"
    }
   ],
   "source": [
    "df.groupby('station_name')['train_id'].nunique().sort_values(ascending=False).plot(kind='hist')\n",
    "plt.title('Number of Train in Each Station')\n",
    "plt.show()"
   ]
  },
  {
   "cell_type": "markdown",
   "metadata": {
    "id": "Caok4qEZBS8s"
   },
   "source": [
    "### 4. Stasiun yang paling sering dilewati suatu rute"
   ]
  },
  {
   "cell_type": "code",
   "execution_count": 16,
   "metadata": {
    "executionInfo": {
     "elapsed": 16,
     "status": "aborted",
     "timestamp": 1712250497608,
     "user": {
      "displayName": "fikaaw braincore",
      "userId": "06038774151748129223"
     },
     "user_tz": -420
    },
    "id": "efnFBLdCBS8s"
   },
   "outputs": [
    {
     "data": {
      "text/plain": [
       "station_name\n",
       "MANGGARAI               27\n",
       "TANAHABANG              22\n",
       "KRANJI                  19\n",
       "CAKUNG                  19\n",
       "KARET                   19\n",
       "                        ..\n",
       "TANJUNGPRIUK             1\n",
       "KUTOARJO                 1\n",
       "NAMBO                    1\n",
       "PALUR                    1\n",
       "BANDARASOEKARNOHATTA     1\n",
       "Name: route, Length: 100, dtype: int64"
      ]
     },
     "execution_count": 16,
     "metadata": {},
     "output_type": "execute_result"
    }
   ],
   "source": [
    "df.groupby('station_name')['route'].nunique().sort_values(ascending=False)\n",
    "#Stasiun manggarai setidaknya tergabung dalam 27 rute perjalanan kereta yang berbeda"
   ]
  },
  {
   "cell_type": "code",
   "execution_count": 17,
   "metadata": {
    "executionInfo": {
     "elapsed": 15,
     "status": "aborted",
     "timestamp": 1712250497608,
     "user": {
      "displayName": "fikaaw braincore",
      "userId": "06038774151748129223"
     },
     "user_tz": -420
    },
    "id": "8VSfjYCdBS8s"
   },
   "outputs": [
    {
     "data": {
      "image/png": "[encoded data removed]",
      "text/plain": [
       "<Figure size 640x480 with 1 Axes>"
      ]
     },
     "metadata": {},
     "output_type": "display_data"
    }
   ],
   "source": [
    "df.groupby('station_name')['route'].nunique().sort_values(ascending=False).plot(kind='hist')\n",
    "plt.title('Distribution of Number of Route in Each Station')\n",
    "plt.show()"
   ]
  },
  {
   "cell_type": "code",
   "execution_count": 18,
   "metadata": {
    "executionInfo": {
     "elapsed": 15,
     "status": "aborted",
     "timestamp": 1712250497608,
     "user": {
      "displayName": "fikaaw braincore",
      "userId": "06038774151748129223"
     },
     "user_tz": -420
    },
    "id": "m8SOK-p9BS8t"
   },
   "outputs": [
    {
     "data": {
      "text/plain": [
       "route\n",
       "JAKARTAKOTA-BOGOR          120\n",
       "BOGOR-JAKARTAKOTA          116\n",
       "KAMPUNGBANDAN-CIKARANG      32\n",
       "KAMPUNGBANDAN-BEKASI        31\n",
       "BEKASI-KAMPUNGBANDAN        27\n",
       "CIKARANG-KAMPUNGBANDAN      26\n",
       "MANGGARAI-BOGOR             25\n",
       "CIKARANG-ANGKE              22\n",
       "MANGGARAI-KAMPUNGBANDAN     19\n",
       "ANGKE-CIKARANG              14\n",
       "ANGKE-BEKASI                14\n",
       "BEKASI-ANGKE                13\n",
       "DEPOK-JAKARTAKOTA           13\n",
       "JAKARTAKOTA-DEPOK           13\n",
       "NAMBO-JAKARTAKOTA           12\n",
       "JAKARTAKOTA-NAMBO           10\n",
       "MANGGARAI-ANGKE              9\n",
       "MANGGARAI-CIKARANG           4\n",
       "MANGGARAI-BEKASI             3\n",
       "BOJONGGEDE-JAKARTAKOTA       2\n",
       "ANGKE-TAMBUN                 1\n",
       "CILEBUT-JAKARTAKOTA          1\n",
       "MANGGARAI-DEPOK              1\n",
       "KAMPUNGBANDAN-TAMBUN         1\n",
       "MANGGARAI-DURI               1\n",
       "MANGGARAI-TANAH ABANG        1\n",
       "TAMBUN-KAMPUNGBANDAN         1\n",
       "Name: count, dtype: int64"
      ]
     },
     "execution_count": 18,
     "metadata": {},
     "output_type": "execute_result"
    }
   ],
   "source": [
    "# explore manggarai\n",
    "df[df['station_name'] == 'MANGGARAI']['route'].value_counts()"
   ]
  },
  {
   "cell_type": "markdown",
   "metadata": {
    "id": "Lqh6RPafBS8t"
   },
   "source": [
    "### 5. Distribusi kereta yang melewati setiap line"
   ]
  },
  {
   "cell_type": "code",
   "execution_count": 19,
   "metadata": {
    "executionInfo": {
     "elapsed": 16,
     "status": "aborted",
     "timestamp": 1712250497609,
     "user": {
      "displayName": "fikaaw braincore",
      "userId": "06038774151748129223"
     },
     "user_tz": -420
    },
    "id": "p9ok62p0BS8t"
   },
   "outputs": [
    {
     "data": {
      "text/plain": [
       "station_name\n",
       "TANAHABANG       4\n",
       "MANGGARAI        4\n",
       "KARET            4\n",
       "SUDIRMAN         4\n",
       "SUDIRMAN BARU    4\n",
       "                ..\n",
       "GANGSENTIONG     1\n",
       "DURENKALIBATA    1\n",
       "DEPOKBARU        1\n",
       "DEPOK            1\n",
       "KRANJI           1\n",
       "Name: line, Length: 100, dtype: int64"
      ]
     },
     "execution_count": 19,
     "metadata": {},
     "output_type": "execute_result"
    }
   ],
   "source": [
    "df.groupby('station_name')['line'].nunique().sort_values(ascending=False)"
   ]
  },
  {
   "cell_type": "code",
   "execution_count": 20,
   "metadata": {
    "executionInfo": {
     "elapsed": 16,
     "status": "aborted",
     "timestamp": 1712250497609,
     "user": {
      "displayName": "fikaaw braincore",
      "userId": "06038774151748129223"
     },
     "user_tz": -420
    },
    "id": "IWpc_8gGBS8t"
   },
   "outputs": [
    {
     "data": {
      "image/png": "[encoded data removed]",
      "text/plain": [
       "<Figure size 640x480 with 1 Axes>"
      ]
     },
     "metadata": {},
     "output_type": "display_data"
    }
   ],
   "source": [
    "df.groupby('station_name')['line'].nunique().sort_values(ascending=False).plot(kind='hist')\n",
    "plt.title('Distribution of Number of Commuter Line in Each Station')\n",
    "plt.show()"
   ]
  },
  {
   "cell_type": "markdown",
   "metadata": {
    "id": "AbBoDsgmBS8t"
   },
   "source": [
    "### 6. Stasiun berdasarkan daerah operasional"
   ]
  },
  {
   "cell_type": "code",
   "execution_count": 21,
   "metadata": {
    "executionInfo": {
     "elapsed": 16,
     "status": "aborted",
     "timestamp": 1712250497609,
     "user": {
      "displayName": "fikaaw braincore",
      "userId": "06038774151748129223"
     },
     "user_tz": -420
    },
    "id": "0K1J_1rBBS8t"
   },
   "outputs": [
    {
     "data": {
      "image/png": "[encoded data removed]",
      "text/plain": [
       "<Figure size 640x480 with 1 Axes>"
      ]
     },
     "metadata": {},
     "output_type": "display_data"
    }
   ],
   "source": [
    "station['daop'].value_counts().plot(kind='bar')\n",
    "plt.title('Daop Distribution')\n",
    "plt.show()"
   ]
  },
  {
   "cell_type": "code",
   "execution_count": 22,
   "metadata": {
    "executionInfo": {
     "elapsed": 16,
     "status": "aborted",
     "timestamp": 1712250497609,
     "user": {
      "displayName": "fikaaw braincore",
      "userId": "06038774151748129223"
     },
     "user_tz": -420
    },
    "id": "DVdfSH0KBS8t"
   },
   "outputs": [
    {
     "data": {
      "image/png": "[encoded data removed]",
      "text/plain": [
       "<Figure size 640x480 with 1 Axes>"
      ]
     },
     "metadata": {},
     "output_type": "display_data"
    }
   ],
   "source": [
    "station[station['have_schedule'] == False]['daop'].value_counts().plot(kind='bar')\n",
    "plt.title('Daop Distribution of Station without Schedule (unactive)')\n",
    "plt.show()"
   ]
  },
  {
   "cell_type": "code",
   "execution_count": 23,
   "metadata": {
    "executionInfo": {
     "elapsed": 16,
     "status": "aborted",
     "timestamp": 1712250497609,
     "user": {
      "displayName": "fikaaw braincore",
      "userId": "06038774151748129223"
     },
     "user_tz": -420
    },
    "id": "liK00EdFBS8u"
   },
   "outputs": [
    {
     "data": {
      "image/png": "[encoded data removed]",
      "text/plain": [
       "<Figure size 640x480 with 1 Axes>"
      ]
     },
     "metadata": {},
     "output_type": "display_data"
    }
   ],
   "source": [
    "station[['have_schedule','daop']].value_counts().plot(kind='bar')\n",
    "plt.title('Daop Distribution of Station by Schedule Availability')\n",
    "plt.show()"
   ]
  },
  {
   "cell_type": "markdown",
   "metadata": {
    "id": "tQjrtYhEBS8u"
   },
   "source": [
    "### 7. Stasiun yang masih beroperasi/memiliki jadwal"
   ]
  },
  {
   "cell_type": "code",
   "execution_count": 24,
   "metadata": {
    "executionInfo": {
     "elapsed": 17,
     "status": "aborted",
     "timestamp": 1712250497610,
     "user": {
      "displayName": "fikaaw braincore",
      "userId": "06038774151748129223"
     },
     "user_tz": -420
    },
    "id": "xxWbkgvqBS8u"
   },
   "outputs": [
    {
     "data": {
      "image/png": "[encoded data removed]",
      "text/plain": [
       "<Figure size 640x480 with 1 Axes>"
      ]
     },
     "metadata": {},
     "output_type": "display_data"
    }
   ],
   "source": [
    "station['have_schedule'].value_counts().plot(kind='bar')\n",
    "plt.title('Number of Station by Schedule Availability')\n",
    "plt.show()"
   ]
  },
  {
   "cell_type": "code",
   "execution_count": 25,
   "metadata": {
    "executionInfo": {
     "elapsed": 17,
     "status": "aborted",
     "timestamp": 1712250497610,
     "user": {
      "displayName": "fikaaw braincore",
      "userId": "06038774151748129223"
     },
     "user_tz": -420
    },
    "id": "2rUNXS63BS8u"
   },
   "outputs": [
    {
     "data": {
      "text/html": [
       "<div>\n",
       "<style scoped>\n",
       "    .dataframe tbody tr th:only-of-type {\n",
       "        vertical-align: middle;\n",
       "    }\n",
       "\n",
       "    .dataframe tbody tr th {\n",
       "        vertical-align: top;\n",
       "    }\n",
       "\n",
       "    .dataframe thead th {\n",
       "        text-align: right;\n",
       "    }\n",
       "</style>\n",
       "<table border=\"1\" class=\"dataframe\">\n",
       "  <thead>\n",
       "    <tr style=\"text-align: right;\">\n",
       "      <th></th>\n",
       "      <th>id</th>\n",
       "      <th>name</th>\n",
       "      <th>daop</th>\n",
       "      <th>fg_enable</th>\n",
       "      <th>have_schedule</th>\n",
       "      <th>updated_at</th>\n",
       "    </tr>\n",
       "  </thead>\n",
       "  <tbody>\n",
       "    <tr>\n",
       "      <th>3</th>\n",
       "      <td>BD</td>\n",
       "      <td>BANDUNG</td>\n",
       "      <td>2</td>\n",
       "      <td>1</td>\n",
       "      <td>False</td>\n",
       "      <td>2024-03-10T15:15:19.997Z</td>\n",
       "    </tr>\n",
       "    <tr>\n",
       "      <th>12</th>\n",
       "      <td>CA</td>\n",
       "      <td>CIGANEA</td>\n",
       "      <td>2</td>\n",
       "      <td>1</td>\n",
       "      <td>False</td>\n",
       "      <td>2024-03-10T15:15:19.997Z</td>\n",
       "    </tr>\n",
       "    <tr>\n",
       "      <th>13</th>\n",
       "      <td>CB</td>\n",
       "      <td>CIBATU</td>\n",
       "      <td>2</td>\n",
       "      <td>1</td>\n",
       "      <td>False</td>\n",
       "      <td>2024-03-10T15:15:19.997Z</td>\n",
       "    </tr>\n",
       "    <tr>\n",
       "      <th>15</th>\n",
       "      <td>CBR</td>\n",
       "      <td>CIBUNGUR</td>\n",
       "      <td>2</td>\n",
       "      <td>1</td>\n",
       "      <td>False</td>\n",
       "      <td>2024-03-10T15:15:19.997Z</td>\n",
       "    </tr>\n",
       "    <tr>\n",
       "      <th>17</th>\n",
       "      <td>CCL</td>\n",
       "      <td>CICALENGKA</td>\n",
       "      <td>2</td>\n",
       "      <td>1</td>\n",
       "      <td>False</td>\n",
       "      <td>2024-03-10T15:15:19.997Z</td>\n",
       "    </tr>\n",
       "    <tr>\n",
       "      <th>18</th>\n",
       "      <td>CD</td>\n",
       "      <td>CIKADONGDONG</td>\n",
       "      <td>2</td>\n",
       "      <td>1</td>\n",
       "      <td>False</td>\n",
       "      <td>2024-03-10T15:15:19.997Z</td>\n",
       "    </tr>\n",
       "    <tr>\n",
       "      <th>23</th>\n",
       "      <td>CKP</td>\n",
       "      <td>CIKAMPEK</td>\n",
       "      <td>2</td>\n",
       "      <td>1</td>\n",
       "      <td>False</td>\n",
       "      <td>2024-03-10T15:15:19.997Z</td>\n",
       "    </tr>\n",
       "    <tr>\n",
       "      <th>26</th>\n",
       "      <td>CLE</td>\n",
       "      <td>CILAME</td>\n",
       "      <td>2</td>\n",
       "      <td>1</td>\n",
       "      <td>False</td>\n",
       "      <td>2024-03-10T15:15:19.997Z</td>\n",
       "    </tr>\n",
       "    <tr>\n",
       "      <th>28</th>\n",
       "      <td>CMD</td>\n",
       "      <td>CIMINDI</td>\n",
       "      <td>2</td>\n",
       "      <td>1</td>\n",
       "      <td>False</td>\n",
       "      <td>2024-03-10T15:15:19.997Z</td>\n",
       "    </tr>\n",
       "    <tr>\n",
       "      <th>29</th>\n",
       "      <td>CMI</td>\n",
       "      <td>CIMAHI</td>\n",
       "      <td>2</td>\n",
       "      <td>1</td>\n",
       "      <td>False</td>\n",
       "      <td>2024-03-10T15:15:19.997Z</td>\n",
       "    </tr>\n",
       "    <tr>\n",
       "      <th>30</th>\n",
       "      <td>CMK</td>\n",
       "      <td>CIMEKAR</td>\n",
       "      <td>2</td>\n",
       "      <td>1</td>\n",
       "      <td>False</td>\n",
       "      <td>2024-03-10T15:15:19.997Z</td>\n",
       "    </tr>\n",
       "    <tr>\n",
       "      <th>33</th>\n",
       "      <td>CTH</td>\n",
       "      <td>CIKUDAPATEUH</td>\n",
       "      <td>2</td>\n",
       "      <td>1</td>\n",
       "      <td>False</td>\n",
       "      <td>2024-03-10T15:15:19.997Z</td>\n",
       "    </tr>\n",
       "    <tr>\n",
       "      <th>43</th>\n",
       "      <td>DWN</td>\n",
       "      <td>DAWUAN</td>\n",
       "      <td>2</td>\n",
       "      <td>1</td>\n",
       "      <td>False</td>\n",
       "      <td>2024-03-10T15:15:19.997Z</td>\n",
       "    </tr>\n",
       "    <tr>\n",
       "      <th>44</th>\n",
       "      <td>GDB</td>\n",
       "      <td>GEDEBAGE</td>\n",
       "      <td>2</td>\n",
       "      <td>1</td>\n",
       "      <td>False</td>\n",
       "      <td>2024-03-10T15:15:19.997Z</td>\n",
       "    </tr>\n",
       "    <tr>\n",
       "      <th>47</th>\n",
       "      <td>GK</td>\n",
       "      <td>GADOBANGKONG</td>\n",
       "      <td>2</td>\n",
       "      <td>1</td>\n",
       "      <td>False</td>\n",
       "      <td>2024-03-10T15:15:19.997Z</td>\n",
       "    </tr>\n",
       "    <tr>\n",
       "      <th>48</th>\n",
       "      <td>GRT</td>\n",
       "      <td>GARUT</td>\n",
       "      <td>2</td>\n",
       "      <td>1</td>\n",
       "      <td>False</td>\n",
       "      <td>2024-03-10T15:15:19.997Z</td>\n",
       "    </tr>\n",
       "    <tr>\n",
       "      <th>51</th>\n",
       "      <td>HRP</td>\n",
       "      <td>HAURPUGUR</td>\n",
       "      <td>2</td>\n",
       "      <td>1</td>\n",
       "      <td>False</td>\n",
       "      <td>2024-03-10T15:15:19.997Z</td>\n",
       "    </tr>\n",
       "    <tr>\n",
       "      <th>58</th>\n",
       "      <td>KAC</td>\n",
       "      <td>KIARACONDONG</td>\n",
       "      <td>2</td>\n",
       "      <td>1</td>\n",
       "      <td>False</td>\n",
       "      <td>2024-03-10T15:15:19.997Z</td>\n",
       "    </tr>\n",
       "    <tr>\n",
       "      <th>61</th>\n",
       "      <td>KDH</td>\n",
       "      <td>KEDUNGGEDEH</td>\n",
       "      <td>2</td>\n",
       "      <td>1</td>\n",
       "      <td>False</td>\n",
       "      <td>2024-03-10T15:15:19.997Z</td>\n",
       "    </tr>\n",
       "    <tr>\n",
       "      <th>65</th>\n",
       "      <td>KLI</td>\n",
       "      <td>KLARI</td>\n",
       "      <td>2</td>\n",
       "      <td>1</td>\n",
       "      <td>False</td>\n",
       "      <td>2024-03-10T15:15:19.997Z</td>\n",
       "    </tr>\n",
       "    <tr>\n",
       "      <th>68</th>\n",
       "      <td>KOS</td>\n",
       "      <td>KOSAMBI</td>\n",
       "      <td>2</td>\n",
       "      <td>1</td>\n",
       "      <td>False</td>\n",
       "      <td>2024-03-10T15:15:19.997Z</td>\n",
       "    </tr>\n",
       "    <tr>\n",
       "      <th>70</th>\n",
       "      <td>KRAI</td>\n",
       "      <td>KARANGSARI</td>\n",
       "      <td>2</td>\n",
       "      <td>1</td>\n",
       "      <td>False</td>\n",
       "      <td>2024-03-10T15:15:19.997Z</td>\n",
       "    </tr>\n",
       "    <tr>\n",
       "      <th>74</th>\n",
       "      <td>KW</td>\n",
       "      <td>KARAWANG</td>\n",
       "      <td>2</td>\n",
       "      <td>1</td>\n",
       "      <td>False</td>\n",
       "      <td>2024-03-10T15:15:19.997Z</td>\n",
       "    </tr>\n",
       "    <tr>\n",
       "      <th>75</th>\n",
       "      <td>LBJ</td>\n",
       "      <td>LEBAKJERO</td>\n",
       "      <td>2</td>\n",
       "      <td>1</td>\n",
       "      <td>False</td>\n",
       "      <td>2024-03-10T15:15:19.997Z</td>\n",
       "    </tr>\n",
       "    <tr>\n",
       "      <th>76</th>\n",
       "      <td>LL</td>\n",
       "      <td>LELES</td>\n",
       "      <td>2</td>\n",
       "      <td>1</td>\n",
       "      <td>False</td>\n",
       "      <td>2024-03-10T15:15:19.997Z</td>\n",
       "    </tr>\n",
       "    <tr>\n",
       "      <th>77</th>\n",
       "      <td>LMB</td>\n",
       "      <td>LEMAHABANG</td>\n",
       "      <td>2</td>\n",
       "      <td>1</td>\n",
       "      <td>False</td>\n",
       "      <td>2024-03-10T15:15:19.997Z</td>\n",
       "    </tr>\n",
       "    <tr>\n",
       "      <th>79</th>\n",
       "      <td>LO</td>\n",
       "      <td>LEUWIGOONG</td>\n",
       "      <td>2</td>\n",
       "      <td>1</td>\n",
       "      <td>False</td>\n",
       "      <td>2024-03-10T15:15:19.997Z</td>\n",
       "    </tr>\n",
       "    <tr>\n",
       "      <th>85</th>\n",
       "      <td>MSI</td>\n",
       "      <td>MASWATI</td>\n",
       "      <td>2</td>\n",
       "      <td>1</td>\n",
       "      <td>False</td>\n",
       "      <td>2024-03-10T15:15:19.997Z</td>\n",
       "    </tr>\n",
       "    <tr>\n",
       "      <th>87</th>\n",
       "      <td>NG</td>\n",
       "      <td>NAGREG</td>\n",
       "      <td>2</td>\n",
       "      <td>1</td>\n",
       "      <td>False</td>\n",
       "      <td>2024-03-10T15:15:19.997Z</td>\n",
       "    </tr>\n",
       "    <tr>\n",
       "      <th>90</th>\n",
       "      <td>PDL</td>\n",
       "      <td>PADALARANG</td>\n",
       "      <td>2</td>\n",
       "      <td>1</td>\n",
       "      <td>False</td>\n",
       "      <td>2024-03-10T15:15:19.997Z</td>\n",
       "    </tr>\n",
       "    <tr>\n",
       "      <th>93</th>\n",
       "      <td>PLD</td>\n",
       "      <td>PLERED</td>\n",
       "      <td>2</td>\n",
       "      <td>1</td>\n",
       "      <td>False</td>\n",
       "      <td>2024-03-10T15:15:19.997Z</td>\n",
       "    </tr>\n",
       "    <tr>\n",
       "      <th>100</th>\n",
       "      <td>PSJ</td>\n",
       "      <td>PASIRJENGKOL</td>\n",
       "      <td>2</td>\n",
       "      <td>1</td>\n",
       "      <td>False</td>\n",
       "      <td>2024-03-10T15:15:19.997Z</td>\n",
       "    </tr>\n",
       "    <tr>\n",
       "      <th>103</th>\n",
       "      <td>PWK</td>\n",
       "      <td>PURWAKARTA</td>\n",
       "      <td>2</td>\n",
       "      <td>1</td>\n",
       "      <td>False</td>\n",
       "      <td>2024-03-10T15:15:19.997Z</td>\n",
       "    </tr>\n",
       "    <tr>\n",
       "      <th>105</th>\n",
       "      <td>RCK</td>\n",
       "      <td>RANCAEKEK</td>\n",
       "      <td>2</td>\n",
       "      <td>1</td>\n",
       "      <td>False</td>\n",
       "      <td>2024-03-10T15:15:19.997Z</td>\n",
       "    </tr>\n",
       "    <tr>\n",
       "      <th>106</th>\n",
       "      <td>RH</td>\n",
       "      <td>RENDEH</td>\n",
       "      <td>2</td>\n",
       "      <td>1</td>\n",
       "      <td>False</td>\n",
       "      <td>2024-03-10T15:15:19.997Z</td>\n",
       "    </tr>\n",
       "    <tr>\n",
       "      <th>113</th>\n",
       "      <td>SKT</td>\n",
       "      <td>SASAKSAAT</td>\n",
       "      <td>2</td>\n",
       "      <td>1</td>\n",
       "      <td>False</td>\n",
       "      <td>2024-03-10T15:15:19.997Z</td>\n",
       "    </tr>\n",
       "    <tr>\n",
       "      <th>118</th>\n",
       "      <td>SUT</td>\n",
       "      <td>SUKATANI</td>\n",
       "      <td>2</td>\n",
       "      <td>1</td>\n",
       "      <td>False</td>\n",
       "      <td>2024-03-10T15:15:19.997Z</td>\n",
       "    </tr>\n",
       "    <tr>\n",
       "      <th>135</th>\n",
       "      <td>WNR</td>\n",
       "      <td>WANARAJA</td>\n",
       "      <td>2</td>\n",
       "      <td>1</td>\n",
       "      <td>False</td>\n",
       "      <td>2024-03-10T15:15:19.997Z</td>\n",
       "    </tr>\n",
       "  </tbody>\n",
       "</table>\n",
       "</div>"
      ],
      "text/plain": [
       "       id          name  daop  fg_enable  have_schedule  \\\n",
       "3      BD       BANDUNG     2          1          False   \n",
       "12     CA       CIGANEA     2          1          False   \n",
       "13     CB        CIBATU     2          1          False   \n",
       "15    CBR      CIBUNGUR     2          1          False   \n",
       "17    CCL    CICALENGKA     2          1          False   \n",
       "18     CD  CIKADONGDONG     2          1          False   \n",
       "23    CKP      CIKAMPEK     2          1          False   \n",
       "26    CLE        CILAME     2          1          False   \n",
       "28    CMD       CIMINDI     2          1          False   \n",
       "29    CMI        CIMAHI     2          1          False   \n",
       "30    CMK       CIMEKAR     2          1          False   \n",
       "33    CTH  CIKUDAPATEUH     2          1          False   \n",
       "43    DWN        DAWUAN     2          1          False   \n",
       "44    GDB      GEDEBAGE     2          1          False   \n",
       "47     GK  GADOBANGKONG     2          1          False   \n",
       "48    GRT         GARUT     2          1          False   \n",
       "51    HRP     HAURPUGUR     2          1          False   \n",
       "58    KAC  KIARACONDONG     2          1          False   \n",
       "61    KDH   KEDUNGGEDEH     2          1          False   \n",
       "65    KLI         KLARI     2          1          False   \n",
       "68    KOS       KOSAMBI     2          1          False   \n",
       "70   KRAI    KARANGSARI     2          1          False   \n",
       "74     KW      KARAWANG     2          1          False   \n",
       "75    LBJ     LEBAKJERO     2          1          False   \n",
       "76     LL         LELES     2          1          False   \n",
       "77    LMB    LEMAHABANG     2          1          False   \n",
       "79     LO    LEUWIGOONG     2          1          False   \n",
       "85    MSI       MASWATI     2          1          False   \n",
       "87     NG        NAGREG     2          1          False   \n",
       "90    PDL    PADALARANG     2          1          False   \n",
       "93    PLD        PLERED     2          1          False   \n",
       "100   PSJ  PASIRJENGKOL     2          1          False   \n",
       "103   PWK    PURWAKARTA     2          1          False   \n",
       "105   RCK     RANCAEKEK     2          1          False   \n",
       "106    RH        RENDEH     2          1          False   \n",
       "113   SKT     SASAKSAAT     2          1          False   \n",
       "118   SUT      SUKATANI     2          1          False   \n",
       "135   WNR      WANARAJA     2          1          False   \n",
       "\n",
       "                   updated_at  \n",
       "3    2024-03-10T15:15:19.997Z  \n",
       "12   2024-03-10T15:15:19.997Z  \n",
       "13   2024-03-10T15:15:19.997Z  \n",
       "15   2024-03-10T15:15:19.997Z  \n",
       "17   2024-03-10T15:15:19.997Z  \n",
       "18   2024-03-10T15:15:19.997Z  \n",
       "23   2024-03-10T15:15:19.997Z  \n",
       "26   2024-03-10T15:15:19.997Z  \n",
       "28   2024-03-10T15:15:19.997Z  \n",
       "29   2024-03-10T15:15:19.997Z  \n",
       "30   2024-03-10T15:15:19.997Z  \n",
       "33   2024-03-10T15:15:19.997Z  \n",
       "43   2024-03-10T15:15:19.997Z  \n",
       "44   2024-03-10T15:15:19.997Z  \n",
       "47   2024-03-10T15:15:19.997Z  \n",
       "48   2024-03-10T15:15:19.997Z  \n",
       "51   2024-03-10T15:15:19.997Z  \n",
       "58   2024-03-10T15:15:19.997Z  \n",
       "61   2024-03-10T15:15:19.997Z  \n",
       "65   2024-03-10T15:15:19.997Z  \n",
       "68   2024-03-10T15:15:19.997Z  \n",
       "70   2024-03-10T15:15:19.997Z  \n",
       "74   2024-03-10T15:15:19.997Z  \n",
       "75   2024-03-10T15:15:19.997Z  \n",
       "76   2024-03-10T15:15:19.997Z  \n",
       "77   2024-03-10T15:15:19.997Z  \n",
       "79   2024-03-10T15:15:19.997Z  \n",
       "85   2024-03-10T15:15:19.997Z  \n",
       "87   2024-03-10T15:15:19.997Z  \n",
       "90   2024-03-10T15:15:19.997Z  \n",
       "93   2024-03-10T15:15:19.997Z  \n",
       "100  2024-03-10T15:15:19.997Z  \n",
       "103  2024-03-10T15:15:19.997Z  \n",
       "105  2024-03-10T15:15:19.997Z  \n",
       "106  2024-03-10T15:15:19.997Z  \n",
       "113  2024-03-10T15:15:19.997Z  \n",
       "118  2024-03-10T15:15:19.997Z  \n",
       "135  2024-03-10T15:15:19.997Z  "
      ]
     },
     "execution_count": 25,
     "metadata": {},
     "output_type": "execute_result"
    }
   ],
   "source": [
    "station[station['have_schedule'] == False]"
   ]
  },
  {
   "cell_type": "markdown",
   "metadata": {
    "id": "t9BWt0ggBS8u"
   },
   "source": [
    "### 8. Distribusi keberangkatan kereta tiap jam"
   ]
  },
  {
   "cell_type": "code",
   "execution_count": 26,
   "metadata": {
    "executionInfo": {
     "elapsed": 17,
     "status": "aborted",
     "timestamp": 1712250497610,
     "user": {
      "displayName": "fikaaw braincore",
      "userId": "06038774151748129223"
     },
     "user_tz": -420
    },
    "id": "r16ISdZNBS8y"
   },
   "outputs": [
    {
     "data": {
      "image/png": "[encoded data removed]",
      "text/plain": [
       "<Figure size 640x480 with 1 Axes>"
      ]
     },
     "metadata": {},
     "output_type": "display_data"
    }
   ],
   "source": [
    "# per kereta\n",
    "df.groupby('time_estimated_hour')['train_id'].nunique().plot(kind='bar')\n",
    "plt.title('Number of Operating Train by Hour')\n",
    "plt.show()"
   ]
  },
  {
   "cell_type": "code",
   "execution_count": 27,
   "metadata": {
    "executionInfo": {
     "elapsed": 17,
     "status": "aborted",
     "timestamp": 1712250497610,
     "user": {
      "displayName": "fikaaw braincore",
      "userId": "06038774151748129223"
     },
     "user_tz": -420
    },
    "id": "uvCNKxx_BS81"
   },
   "outputs": [
    {
     "data": {
      "image/png": "[encoded data removed]",
      "text/plain": [
       "<Figure size 640x480 with 1 Axes>"
      ]
     },
     "metadata": {},
     "output_type": "display_data"
    }
   ],
   "source": [
    "# per jadwal\n",
    "df.groupby('time_estimated_hour')['id_x'].nunique().plot(kind='bar')\n",
    "plt.title('Number of Schedule by Hour')\n",
    "plt.show()"
   ]
  },
  {
   "cell_type": "markdown",
   "metadata": {
    "id": "4NP5V_D2BS82"
   },
   "source": [
    "### 9. Korelasi Kesibukan stasiun dengan daftar operasional"
   ]
  },
  {
   "cell_type": "code",
   "execution_count": 28,
   "metadata": {
    "executionInfo": {
     "elapsed": 16,
     "status": "aborted",
     "timestamp": 1712250497610,
     "user": {
      "displayName": "fikaaw braincore",
      "userId": "06038774151748129223"
     },
     "user_tz": -420
    },
    "id": "xHAW3oeTBS82"
   },
   "outputs": [
    {
     "data": {
      "text/html": [
       "<div>\n",
       "<style scoped>\n",
       "    .dataframe tbody tr th:only-of-type {\n",
       "        vertical-align: middle;\n",
       "    }\n",
       "\n",
       "    .dataframe tbody tr th {\n",
       "        vertical-align: top;\n",
       "    }\n",
       "\n",
       "    .dataframe thead th {\n",
       "        text-align: right;\n",
       "    }\n",
       "</style>\n",
       "<table border=\"1\" class=\"dataframe\">\n",
       "  <thead>\n",
       "    <tr style=\"text-align: right;\">\n",
       "      <th></th>\n",
       "      <th>station_name</th>\n",
       "      <th>no_schedule</th>\n",
       "      <th>daop</th>\n",
       "      <th>fg_enable</th>\n",
       "      <th>have_schedule</th>\n",
       "    </tr>\n",
       "  </thead>\n",
       "  <tbody>\n",
       "    <tr>\n",
       "      <th>0</th>\n",
       "      <td>ANCOL</td>\n",
       "      <td>86</td>\n",
       "      <td>1</td>\n",
       "      <td>1</td>\n",
       "      <td>True</td>\n",
       "    </tr>\n",
       "    <tr>\n",
       "      <th>1</th>\n",
       "      <td>ANGKE</td>\n",
       "      <td>195</td>\n",
       "      <td>1</td>\n",
       "      <td>1</td>\n",
       "      <td>True</td>\n",
       "    </tr>\n",
       "    <tr>\n",
       "      <th>2</th>\n",
       "      <td>BANDARASOEKARNOHATTA</td>\n",
       "      <td>28</td>\n",
       "      <td>1</td>\n",
       "      <td>1</td>\n",
       "      <td>True</td>\n",
       "    </tr>\n",
       "    <tr>\n",
       "      <th>3</th>\n",
       "      <td>BATUCEPER</td>\n",
       "      <td>178</td>\n",
       "      <td>1</td>\n",
       "      <td>1</td>\n",
       "      <td>True</td>\n",
       "    </tr>\n",
       "    <tr>\n",
       "      <th>4</th>\n",
       "      <td>BEKASI</td>\n",
       "      <td>228</td>\n",
       "      <td>1</td>\n",
       "      <td>1</td>\n",
       "      <td>True</td>\n",
       "    </tr>\n",
       "  </tbody>\n",
       "</table>\n",
       "</div>"
      ],
      "text/plain": [
       "           station_name  no_schedule  daop  fg_enable  have_schedule\n",
       "0                 ANCOL           86     1          1           True\n",
       "1                 ANGKE          195     1          1           True\n",
       "2  BANDARASOEKARNOHATTA           28     1          1           True\n",
       "3             BATUCEPER          178     1          1           True\n",
       "4                BEKASI          228     1          1           True"
      ]
     },
     "execution_count": 28,
     "metadata": {},
     "output_type": "execute_result"
    }
   ],
   "source": [
    "temp = df.copy()\n",
    "temp = temp.groupby('station_name')['id_x'].nunique().reset_index(name='no_schedule')\n",
    "temp1 = pd.merge(temp, station, left_on=\"station_name\", right_on=\"name\", how=\"inner\")\n",
    "temp1.drop(['id','name','updated_at'], axis=1, inplace=True)\n",
    "temp1.head()"
   ]
  },
  {
   "cell_type": "code",
   "execution_count": 29,
   "metadata": {
    "executionInfo": {
     "elapsed": 16,
     "status": "aborted",
     "timestamp": 1712250497610,
     "user": {
      "displayName": "fikaaw braincore",
      "userId": "06038774151748129223"
     },
     "user_tz": -420
    },
    "id": "vDj68dkgBS82"
   },
   "outputs": [
    {
     "data": {
      "text/html": [
       "<div>\n",
       "<style scoped>\n",
       "    .dataframe tbody tr th:only-of-type {\n",
       "        vertical-align: middle;\n",
       "    }\n",
       "\n",
       "    .dataframe tbody tr th {\n",
       "        vertical-align: top;\n",
       "    }\n",
       "\n",
       "    .dataframe thead th {\n",
       "        text-align: right;\n",
       "    }\n",
       "</style>\n",
       "<table border=\"1\" class=\"dataframe\">\n",
       "  <thead>\n",
       "    <tr style=\"text-align: right;\">\n",
       "      <th></th>\n",
       "      <th>no_schedule</th>\n",
       "      <th>daop</th>\n",
       "      <th>fg_enable</th>\n",
       "      <th>have_schedule</th>\n",
       "    </tr>\n",
       "  </thead>\n",
       "  <tbody>\n",
       "    <tr>\n",
       "      <th>no_schedule</th>\n",
       "      <td>1.000000</td>\n",
       "      <td>-0.607807</td>\n",
       "      <td>NaN</td>\n",
       "      <td>NaN</td>\n",
       "    </tr>\n",
       "    <tr>\n",
       "      <th>daop</th>\n",
       "      <td>-0.607807</td>\n",
       "      <td>1.000000</td>\n",
       "      <td>NaN</td>\n",
       "      <td>NaN</td>\n",
       "    </tr>\n",
       "    <tr>\n",
       "      <th>fg_enable</th>\n",
       "      <td>NaN</td>\n",
       "      <td>NaN</td>\n",
       "      <td>NaN</td>\n",
       "      <td>NaN</td>\n",
       "    </tr>\n",
       "    <tr>\n",
       "      <th>have_schedule</th>\n",
       "      <td>NaN</td>\n",
       "      <td>NaN</td>\n",
       "      <td>NaN</td>\n",
       "      <td>NaN</td>\n",
       "    </tr>\n",
       "  </tbody>\n",
       "</table>\n",
       "</div>"
      ],
      "text/plain": [
       "               no_schedule      daop  fg_enable  have_schedule\n",
       "no_schedule       1.000000 -0.607807        NaN            NaN\n",
       "daop             -0.607807  1.000000        NaN            NaN\n",
       "fg_enable              NaN       NaN        NaN            NaN\n",
       "have_schedule          NaN       NaN        NaN            NaN"
      ]
     },
     "execution_count": 29,
     "metadata": {},
     "output_type": "execute_result"
    }
   ],
   "source": [
    "temp1.corr(numeric_only=True)"
   ]
  },
  {
   "cell_type": "code",
   "execution_count": 30,
   "metadata": {
    "executionInfo": {
     "elapsed": 16,
     "status": "aborted",
     "timestamp": 1712250497610,
     "user": {
      "displayName": "fikaaw braincore",
      "userId": "06038774151748129223"
     },
     "user_tz": -420
    },
    "id": "OWqWGs_aBS82"
   },
   "outputs": [
    {
     "data": {
      "image/png": "[encoded data removed]",
      "text/plain": [
       "<Figure size 640x480 with 1 Axes>"
      ]
     },
     "metadata": {},
     "output_type": "display_data"
    }
   ],
   "source": [
    "sns.boxplot(x='daop', y='no_schedule', data=temp1)\n",
    "plt.title('Number of Schedule by Daop')\n",
    "plt.show()"
   ]
  },
  {
   "cell_type": "code",
   "execution_count": 31,
   "metadata": {
    "executionInfo": {
     "elapsed": 17,
     "status": "aborted",
     "timestamp": 1712250497611,
     "user": {
      "displayName": "fikaaw braincore",
      "userId": "06038774151748129223"
     },
     "user_tz": -420
    },
    "id": "ngwxUseEBS82"
   },
   "outputs": [
    {
     "data": {
      "text/html": [
       "<div>\n",
       "<style scoped>\n",
       "    .dataframe tbody tr th:only-of-type {\n",
       "        vertical-align: middle;\n",
       "    }\n",
       "\n",
       "    .dataframe tbody tr th {\n",
       "        vertical-align: top;\n",
       "    }\n",
       "\n",
       "    .dataframe thead th {\n",
       "        text-align: right;\n",
       "    }\n",
       "</style>\n",
       "<table border=\"1\" class=\"dataframe\">\n",
       "  <thead>\n",
       "    <tr style=\"text-align: right;\">\n",
       "      <th></th>\n",
       "      <th>count</th>\n",
       "      <th>mean</th>\n",
       "      <th>std</th>\n",
       "      <th>min</th>\n",
       "      <th>25%</th>\n",
       "      <th>50%</th>\n",
       "      <th>75%</th>\n",
       "      <th>max</th>\n",
       "    </tr>\n",
       "    <tr>\n",
       "      <th>daop</th>\n",
       "      <th></th>\n",
       "      <th></th>\n",
       "      <th></th>\n",
       "      <th></th>\n",
       "      <th></th>\n",
       "      <th></th>\n",
       "      <th></th>\n",
       "      <th></th>\n",
       "    </tr>\n",
       "  </thead>\n",
       "  <tbody>\n",
       "    <tr>\n",
       "      <th>1</th>\n",
       "      <td>83.0</td>\n",
       "      <td>212.927711</td>\n",
       "      <td>102.800990</td>\n",
       "      <td>12.0</td>\n",
       "      <td>141.0</td>\n",
       "      <td>186.0</td>\n",
       "      <td>297.0</td>\n",
       "      <td>532.0</td>\n",
       "    </tr>\n",
       "    <tr>\n",
       "      <th>6</th>\n",
       "      <td>17.0</td>\n",
       "      <td>23.058824</td>\n",
       "      <td>10.170242</td>\n",
       "      <td>4.0</td>\n",
       "      <td>15.0</td>\n",
       "      <td>30.0</td>\n",
       "      <td>30.0</td>\n",
       "      <td>30.0</td>\n",
       "    </tr>\n",
       "  </tbody>\n",
       "</table>\n",
       "</div>"
      ],
      "text/plain": [
       "      count        mean         std   min    25%    50%    75%    max\n",
       "daop                                                                 \n",
       "1      83.0  212.927711  102.800990  12.0  141.0  186.0  297.0  532.0\n",
       "6      17.0   23.058824   10.170242   4.0   15.0   30.0   30.0   30.0"
      ]
     },
     "execution_count": 31,
     "metadata": {},
     "output_type": "execute_result"
    }
   ],
   "source": [
    "temp1.groupby('daop')['no_schedule'].describe()"
   ]
  },
  {
   "cell_type": "markdown",
   "metadata": {
    "id": "xiMTn8vZBS82"
   },
   "source": [
    "### 10. Line terpendek dan terpanjang"
   ]
  },
  {
   "cell_type": "code",
   "execution_count": 32,
   "metadata": {
    "executionInfo": {
     "elapsed": 17,
     "status": "aborted",
     "timestamp": 1712250497611,
     "user": {
      "displayName": "fikaaw braincore",
      "userId": "06038774151748129223"
     },
     "user_tz": -420
    },
    "id": "zjXaRoWDBS82"
   },
   "outputs": [
    {
     "data": {
      "text/html": [
       "<div>\n",
       "<style scoped>\n",
       "    .dataframe tbody tr th:only-of-type {\n",
       "        vertical-align: middle;\n",
       "    }\n",
       "\n",
       "    .dataframe tbody tr th {\n",
       "        vertical-align: top;\n",
       "    }\n",
       "\n",
       "    .dataframe thead th {\n",
       "        text-align: right;\n",
       "    }\n",
       "</style>\n",
       "<table border=\"1\" class=\"dataframe\">\n",
       "  <thead>\n",
       "    <tr style=\"text-align: right;\">\n",
       "      <th></th>\n",
       "      <th>count</th>\n",
       "      <th>mean</th>\n",
       "      <th>std</th>\n",
       "      <th>min</th>\n",
       "      <th>25%</th>\n",
       "      <th>50%</th>\n",
       "      <th>75%</th>\n",
       "      <th>max</th>\n",
       "    </tr>\n",
       "    <tr>\n",
       "      <th>line</th>\n",
       "      <th></th>\n",
       "      <th></th>\n",
       "      <th></th>\n",
       "      <th></th>\n",
       "      <th></th>\n",
       "      <th></th>\n",
       "      <th></th>\n",
       "      <th></th>\n",
       "    </tr>\n",
       "  </thead>\n",
       "  <tbody>\n",
       "    <tr>\n",
       "      <th>COMMUTER LINE BOGOR</th>\n",
       "      <td>384.0</td>\n",
       "      <td>19.416667</td>\n",
       "      <td>6.258849</td>\n",
       "      <td>2.0</td>\n",
       "      <td>16.0</td>\n",
       "      <td>23.0</td>\n",
       "      <td>23.0</td>\n",
       "      <td>23.0</td>\n",
       "    </tr>\n",
       "    <tr>\n",
       "      <th>COMMUTER LINE CIKARANG</th>\n",
       "      <td>357.0</td>\n",
       "      <td>14.574230</td>\n",
       "      <td>4.528711</td>\n",
       "      <td>5.0</td>\n",
       "      <td>13.0</td>\n",
       "      <td>15.0</td>\n",
       "      <td>19.0</td>\n",
       "      <td>20.0</td>\n",
       "    </tr>\n",
       "    <tr>\n",
       "      <th>COMMUTER LINE RANGKASBITUNG</th>\n",
       "      <td>204.0</td>\n",
       "      <td>14.367647</td>\n",
       "      <td>4.501465</td>\n",
       "      <td>3.0</td>\n",
       "      <td>10.0</td>\n",
       "      <td>18.0</td>\n",
       "      <td>18.0</td>\n",
       "      <td>18.0</td>\n",
       "    </tr>\n",
       "    <tr>\n",
       "      <th>COMMUTER LINE YK</th>\n",
       "      <td>30.0</td>\n",
       "      <td>12.000000</td>\n",
       "      <td>0.000000</td>\n",
       "      <td>12.0</td>\n",
       "      <td>12.0</td>\n",
       "      <td>12.0</td>\n",
       "      <td>12.0</td>\n",
       "      <td>12.0</td>\n",
       "    </tr>\n",
       "    <tr>\n",
       "      <th>COMMUTER LINE TANGERANG</th>\n",
       "      <td>124.0</td>\n",
       "      <td>9.919355</td>\n",
       "      <td>0.632414</td>\n",
       "      <td>5.0</td>\n",
       "      <td>10.0</td>\n",
       "      <td>10.0</td>\n",
       "      <td>10.0</td>\n",
       "      <td>10.0</td>\n",
       "    </tr>\n",
       "    <tr>\n",
       "      <th>COMMUTER LINE BST</th>\n",
       "      <td>84.0</td>\n",
       "      <td>7.000000</td>\n",
       "      <td>1.422707</td>\n",
       "      <td>5.0</td>\n",
       "      <td>5.0</td>\n",
       "      <td>8.0</td>\n",
       "      <td>8.0</td>\n",
       "      <td>8.0</td>\n",
       "    </tr>\n",
       "    <tr>\n",
       "      <th>PRAMBANAN EKSPRES</th>\n",
       "      <td>1.0</td>\n",
       "      <td>4.000000</td>\n",
       "      <td>NaN</td>\n",
       "      <td>4.0</td>\n",
       "      <td>4.0</td>\n",
       "      <td>4.0</td>\n",
       "      <td>4.0</td>\n",
       "      <td>4.0</td>\n",
       "    </tr>\n",
       "    <tr>\n",
       "      <th>PRAMBANAN EKSPRES (PRAMEKS)</th>\n",
       "      <td>7.0</td>\n",
       "      <td>4.000000</td>\n",
       "      <td>0.000000</td>\n",
       "      <td>4.0</td>\n",
       "      <td>4.0</td>\n",
       "      <td>4.0</td>\n",
       "      <td>4.0</td>\n",
       "      <td>4.0</td>\n",
       "    </tr>\n",
       "    <tr>\n",
       "      <th>COMMUTER LINE TANJUNGPRIUK</th>\n",
       "      <td>86.0</td>\n",
       "      <td>3.000000</td>\n",
       "      <td>0.000000</td>\n",
       "      <td>3.0</td>\n",
       "      <td>3.0</td>\n",
       "      <td>3.0</td>\n",
       "      <td>3.0</td>\n",
       "      <td>3.0</td>\n",
       "    </tr>\n",
       "    <tr>\n",
       "      <th>COMMUTERLINE MERAK</th>\n",
       "      <td>7.0</td>\n",
       "      <td>1.000000</td>\n",
       "      <td>0.000000</td>\n",
       "      <td>1.0</td>\n",
       "      <td>1.0</td>\n",
       "      <td>1.0</td>\n",
       "      <td>1.0</td>\n",
       "      <td>1.0</td>\n",
       "    </tr>\n",
       "  </tbody>\n",
       "</table>\n",
       "</div>"
      ],
      "text/plain": [
       "                             count       mean       std   min   25%   50%  \\\n",
       "line                                                                        \n",
       "COMMUTER LINE BOGOR          384.0  19.416667  6.258849   2.0  16.0  23.0   \n",
       "COMMUTER LINE CIKARANG       357.0  14.574230  4.528711   5.0  13.0  15.0   \n",
       "COMMUTER LINE RANGKASBITUNG  204.0  14.367647  4.501465   3.0  10.0  18.0   \n",
       "COMMUTER LINE YK              30.0  12.000000  0.000000  12.0  12.0  12.0   \n",
       "COMMUTER LINE TANGERANG      124.0   9.919355  0.632414   5.0  10.0  10.0   \n",
       "COMMUTER LINE BST             84.0   7.000000  1.422707   5.0   5.0   8.0   \n",
       "PRAMBANAN EKSPRES              1.0   4.000000       NaN   4.0   4.0   4.0   \n",
       "PRAMBANAN EKSPRES (PRAMEKS)    7.0   4.000000  0.000000   4.0   4.0   4.0   \n",
       "COMMUTER LINE TANJUNGPRIUK    86.0   3.000000  0.000000   3.0   3.0   3.0   \n",
       "COMMUTERLINE MERAK             7.0   1.000000  0.000000   1.0   1.0   1.0   \n",
       "\n",
       "                              75%   max  \n",
       "line                                     \n",
       "COMMUTER LINE BOGOR          23.0  23.0  \n",
       "COMMUTER LINE CIKARANG       19.0  20.0  \n",
       "COMMUTER LINE RANGKASBITUNG  18.0  18.0  \n",
       "COMMUTER LINE YK             12.0  12.0  \n",
       "COMMUTER LINE TANGERANG      10.0  10.0  \n",
       "COMMUTER LINE BST             8.0   8.0  \n",
       "PRAMBANAN EKSPRES             4.0   4.0  \n",
       "PRAMBANAN EKSPRES (PRAMEKS)   4.0   4.0  \n",
       "COMMUTER LINE TANJUNGPRIUK    3.0   3.0  \n",
       "COMMUTERLINE MERAK            1.0   1.0  "
      ]
     },
     "execution_count": 32,
     "metadata": {},
     "output_type": "execute_result"
    }
   ],
   "source": [
    "train.groupby('line')['no_station'].describe().sort_values(by='mean', ascending=False)"
   ]
  },
  {
   "cell_type": "markdown",
   "metadata": {
    "id": "dMmMx-57BS83"
   },
   "source": [
    "### 11. Kereta dengan durasi total perjalanan terlama"
   ]
  },
  {
   "cell_type": "code",
   "execution_count": 33,
   "metadata": {
    "executionInfo": {
     "elapsed": 17,
     "status": "aborted",
     "timestamp": 1712250497611,
     "user": {
      "displayName": "fikaaw braincore",
      "userId": "06038774151748129223"
     },
     "user_tz": -420
    },
    "id": "iz6E9kILBS83"
   },
   "outputs": [
    {
     "data": {
      "text/html": [
       "<div>\n",
       "<style scoped>\n",
       "    .dataframe tbody tr th:only-of-type {\n",
       "        vertical-align: middle;\n",
       "    }\n",
       "\n",
       "    .dataframe tbody tr th {\n",
       "        vertical-align: top;\n",
       "    }\n",
       "\n",
       "    .dataframe thead th {\n",
       "        text-align: right;\n",
       "    }\n",
       "</style>\n",
       "<table border=\"1\" class=\"dataframe\">\n",
       "  <thead>\n",
       "    <tr style=\"text-align: right;\">\n",
       "      <th></th>\n",
       "      <th>line</th>\n",
       "      <th>route</th>\n",
       "      <th>train_id</th>\n",
       "      <th>no_station</th>\n",
       "      <th>estimated_trip_time</th>\n",
       "    </tr>\n",
       "  </thead>\n",
       "  <tbody>\n",
       "    <tr>\n",
       "      <th>0</th>\n",
       "      <td>COMMUTER LINE BOGOR</td>\n",
       "      <td>BOGOR-DEPOK</td>\n",
       "      <td>1063C</td>\n",
       "      <td>4</td>\n",
       "      <td>28.0</td>\n",
       "    </tr>\n",
       "    <tr>\n",
       "      <th>1</th>\n",
       "      <td>COMMUTER LINE BOGOR</td>\n",
       "      <td>BOGOR-DEPOK</td>\n",
       "      <td>1065C</td>\n",
       "      <td>4</td>\n",
       "      <td>28.0</td>\n",
       "    </tr>\n",
       "    <tr>\n",
       "      <th>2</th>\n",
       "      <td>COMMUTER LINE BOGOR</td>\n",
       "      <td>BOGOR-DEPOK</td>\n",
       "      <td>1067C</td>\n",
       "      <td>4</td>\n",
       "      <td>28.0</td>\n",
       "    </tr>\n",
       "    <tr>\n",
       "      <th>3</th>\n",
       "      <td>COMMUTER LINE BOGOR</td>\n",
       "      <td>BOGOR-DEPOK</td>\n",
       "      <td>1069C</td>\n",
       "      <td>4</td>\n",
       "      <td>28.0</td>\n",
       "    </tr>\n",
       "    <tr>\n",
       "      <th>4</th>\n",
       "      <td>COMMUTER LINE BOGOR</td>\n",
       "      <td>BOGOR-DEPOK</td>\n",
       "      <td>1381C</td>\n",
       "      <td>4</td>\n",
       "      <td>28.0</td>\n",
       "    </tr>\n",
       "    <tr>\n",
       "      <th>...</th>\n",
       "      <td>...</td>\n",
       "      <td>...</td>\n",
       "      <td>...</td>\n",
       "      <td>...</td>\n",
       "      <td>...</td>\n",
       "    </tr>\n",
       "    <tr>\n",
       "      <th>1279</th>\n",
       "      <td>PRAMBANAN EKSPRES (PRAMEKS)</td>\n",
       "      <td>KUTOARJO-YOGYAKARTA</td>\n",
       "      <td>556</td>\n",
       "      <td>4</td>\n",
       "      <td>67.0</td>\n",
       "    </tr>\n",
       "    <tr>\n",
       "      <th>1280</th>\n",
       "      <td>PRAMBANAN EKSPRES (PRAMEKS)</td>\n",
       "      <td>KUTOARJO-YOGYAKARTA</td>\n",
       "      <td>558</td>\n",
       "      <td>4</td>\n",
       "      <td>70.0</td>\n",
       "    </tr>\n",
       "    <tr>\n",
       "      <th>1281</th>\n",
       "      <td>PRAMBANAN EKSPRES (PRAMEKS)</td>\n",
       "      <td>YOGYAKARTA-KUTOARJO</td>\n",
       "      <td>551</td>\n",
       "      <td>4</td>\n",
       "      <td>67.0</td>\n",
       "    </tr>\n",
       "    <tr>\n",
       "      <th>1282</th>\n",
       "      <td>PRAMBANAN EKSPRES (PRAMEKS)</td>\n",
       "      <td>YOGYAKARTA-KUTOARJO</td>\n",
       "      <td>553</td>\n",
       "      <td>4</td>\n",
       "      <td>81.0</td>\n",
       "    </tr>\n",
       "    <tr>\n",
       "      <th>1283</th>\n",
       "      <td>PRAMBANAN EKSPRES (PRAMEKS)</td>\n",
       "      <td>YOGYAKARTA-KUTOARJO</td>\n",
       "      <td>555</td>\n",
       "      <td>4</td>\n",
       "      <td>81.0</td>\n",
       "    </tr>\n",
       "  </tbody>\n",
       "</table>\n",
       "<p>1284 rows × 5 columns</p>\n",
       "</div>"
      ],
      "text/plain": [
       "                             line                route train_id  no_station  \\\n",
       "0             COMMUTER LINE BOGOR          BOGOR-DEPOK    1063C           4   \n",
       "1             COMMUTER LINE BOGOR          BOGOR-DEPOK    1065C           4   \n",
       "2             COMMUTER LINE BOGOR          BOGOR-DEPOK    1067C           4   \n",
       "3             COMMUTER LINE BOGOR          BOGOR-DEPOK    1069C           4   \n",
       "4             COMMUTER LINE BOGOR          BOGOR-DEPOK    1381C           4   \n",
       "...                           ...                  ...      ...         ...   \n",
       "1279  PRAMBANAN EKSPRES (PRAMEKS)  KUTOARJO-YOGYAKARTA      556           4   \n",
       "1280  PRAMBANAN EKSPRES (PRAMEKS)  KUTOARJO-YOGYAKARTA      558           4   \n",
       "1281  PRAMBANAN EKSPRES (PRAMEKS)  YOGYAKARTA-KUTOARJO      551           4   \n",
       "1282  PRAMBANAN EKSPRES (PRAMEKS)  YOGYAKARTA-KUTOARJO      553           4   \n",
       "1283  PRAMBANAN EKSPRES (PRAMEKS)  YOGYAKARTA-KUTOARJO      555           4   \n",
       "\n",
       "      estimated_trip_time  \n",
       "0                    28.0  \n",
       "1                    28.0  \n",
       "2                    28.0  \n",
       "3                    28.0  \n",
       "4                    28.0  \n",
       "...                   ...  \n",
       "1279                 67.0  \n",
       "1280                 70.0  \n",
       "1281                 67.0  \n",
       "1282                 81.0  \n",
       "1283                 81.0  \n",
       "\n",
       "[1284 rows x 5 columns]"
      ]
     },
     "execution_count": 33,
     "metadata": {},
     "output_type": "execute_result"
    }
   ],
   "source": [
    "train"
   ]
  },
  {
   "cell_type": "code",
   "execution_count": 34,
   "metadata": {
    "executionInfo": {
     "elapsed": 17,
     "status": "aborted",
     "timestamp": 1712250497611,
     "user": {
      "displayName": "fikaaw braincore",
      "userId": "06038774151748129223"
     },
     "user_tz": -420
    },
    "id": "Sve5soJlBS83"
   },
   "outputs": [
    {
     "data": {
      "image/png": "[encoded data removed]",
      "text/plain": [
       "<Figure size 640x480 with 1 Axes>"
      ]
     },
     "metadata": {},
     "output_type": "display_data"
    }
   ],
   "source": [
    "train['estimated_trip_time'].plot(kind='hist')\n",
    "plt.title('Distribution of Estimated Trip Time of each Train')\n",
    "plt.show()"
   ]
  },
  {
   "cell_type": "markdown",
   "metadata": {
    "id": "mwIIVOpWBS83"
   },
   "source": [
    "### 12. Korelasi panjang rute terhadap waktu tempuh"
   ]
  },
  {
   "cell_type": "code",
   "execution_count": 35,
   "metadata": {
    "executionInfo": {
     "elapsed": 18,
     "status": "aborted",
     "timestamp": 1712250497612,
     "user": {
      "displayName": "fikaaw braincore",
      "userId": "06038774151748129223"
     },
     "user_tz": -420
    },
    "id": "tiyPqkT0BS83"
   },
   "outputs": [
    {
     "data": {
      "text/html": [
       "<div>\n",
       "<style scoped>\n",
       "    .dataframe tbody tr th:only-of-type {\n",
       "        vertical-align: middle;\n",
       "    }\n",
       "\n",
       "    .dataframe tbody tr th {\n",
       "        vertical-align: top;\n",
       "    }\n",
       "\n",
       "    .dataframe thead th {\n",
       "        text-align: right;\n",
       "    }\n",
       "</style>\n",
       "<table border=\"1\" class=\"dataframe\">\n",
       "  <thead>\n",
       "    <tr style=\"text-align: right;\">\n",
       "      <th></th>\n",
       "      <th>no_station</th>\n",
       "      <th>estimated_trip_time</th>\n",
       "    </tr>\n",
       "  </thead>\n",
       "  <tbody>\n",
       "    <tr>\n",
       "      <th>no_station</th>\n",
       "      <td>1.000000</td>\n",
       "      <td>0.824142</td>\n",
       "    </tr>\n",
       "    <tr>\n",
       "      <th>estimated_trip_time</th>\n",
       "      <td>0.824142</td>\n",
       "      <td>1.000000</td>\n",
       "    </tr>\n",
       "  </tbody>\n",
       "</table>\n",
       "</div>"
      ],
      "text/plain": [
       "                     no_station  estimated_trip_time\n",
       "no_station             1.000000             0.824142\n",
       "estimated_trip_time    0.824142             1.000000"
      ]
     },
     "execution_count": 35,
     "metadata": {},
     "output_type": "execute_result"
    }
   ],
   "source": [
    "train.select_dtypes(\"number\").corr()"
   ]
  },
  {
   "cell_type": "code",
   "execution_count": 36,
   "metadata": {
    "executionInfo": {
     "elapsed": 18,
     "status": "aborted",
     "timestamp": 1712250497612,
     "user": {
      "displayName": "fikaaw braincore",
      "userId": "06038774151748129223"
     },
     "user_tz": -420
    },
    "id": "bnUTrblXBS83"
   },
   "outputs": [
    {
     "data": {
      "image/png": "[encoded data removed]",
      "text/plain": [
       "<Figure size 640x480 with 1 Axes>"
      ]
     },
     "metadata": {},
     "output_type": "display_data"
    }
   ],
   "source": [
    "sns.scatterplot(x='no_station', y='estimated_trip_time', data=train)\n",
    "plt.show()"
   ]
  },
  {
   "cell_type": "code",
   "execution_count": 37,
   "metadata": {
    "executionInfo": {
     "elapsed": 18,
     "status": "aborted",
     "timestamp": 1712250497612,
     "user": {
      "displayName": "fikaaw braincore",
      "userId": "06038774151748129223"
     },
     "user_tz": -420
    },
    "id": "x7-Q3PTrBS83"
   },
   "outputs": [
    {
     "data": {
      "image/png": "[encoded data removed]",
      "text/plain": [
       "<Figure size 640x480 with 1 Axes>"
      ]
     },
     "metadata": {},
     "output_type": "display_data"
    }
   ],
   "source": [
    "sns.regplot(x='no_station', y='estimated_trip_time', data=train)\n",
    "plt.show()"
   ]
  },
  {
   "cell_type": "markdown",
   "metadata": {
    "id": "nB28D6DoBS84"
   },
   "source": [
    "### 13. Distribusi panjang rute"
   ]
  },
  {
   "cell_type": "code",
   "execution_count": 38,
   "metadata": {
    "executionInfo": {
     "elapsed": 18,
     "status": "aborted",
     "timestamp": 1712250497612,
     "user": {
      "displayName": "fikaaw braincore",
      "userId": "06038774151748129223"
     },
     "user_tz": -420
    },
    "id": "-nFq45bNBS84"
   },
   "outputs": [
    {
     "data": {
      "text/html": [
       "<div>\n",
       "<style scoped>\n",
       "    .dataframe tbody tr th:only-of-type {\n",
       "        vertical-align: middle;\n",
       "    }\n",
       "\n",
       "    .dataframe tbody tr th {\n",
       "        vertical-align: top;\n",
       "    }\n",
       "\n",
       "    .dataframe thead th {\n",
       "        text-align: right;\n",
       "    }\n",
       "</style>\n",
       "<table border=\"1\" class=\"dataframe\">\n",
       "  <thead>\n",
       "    <tr style=\"text-align: right;\">\n",
       "      <th></th>\n",
       "      <th>count</th>\n",
       "      <th>mean</th>\n",
       "      <th>std</th>\n",
       "      <th>min</th>\n",
       "      <th>25%</th>\n",
       "      <th>50%</th>\n",
       "      <th>75%</th>\n",
       "      <th>max</th>\n",
       "    </tr>\n",
       "    <tr>\n",
       "      <th>route</th>\n",
       "      <th></th>\n",
       "      <th></th>\n",
       "      <th></th>\n",
       "      <th></th>\n",
       "      <th></th>\n",
       "      <th></th>\n",
       "      <th></th>\n",
       "      <th></th>\n",
       "    </tr>\n",
       "  </thead>\n",
       "  <tbody>\n",
       "    <tr>\n",
       "      <th>JAKARTAKOTA-BOGOR</th>\n",
       "      <td>120.0</td>\n",
       "      <td>23.0</td>\n",
       "      <td>0.0</td>\n",
       "      <td>23.0</td>\n",
       "      <td>23.0</td>\n",
       "      <td>23.0</td>\n",
       "      <td>23.0</td>\n",
       "      <td>23.0</td>\n",
       "    </tr>\n",
       "    <tr>\n",
       "      <th>BOGOR-JAKARTAKOTA</th>\n",
       "      <td>116.0</td>\n",
       "      <td>23.0</td>\n",
       "      <td>0.0</td>\n",
       "      <td>23.0</td>\n",
       "      <td>23.0</td>\n",
       "      <td>23.0</td>\n",
       "      <td>23.0</td>\n",
       "      <td>23.0</td>\n",
       "    </tr>\n",
       "    <tr>\n",
       "      <th>JAKARTAKOTA-NAMBO</th>\n",
       "      <td>10.0</td>\n",
       "      <td>22.0</td>\n",
       "      <td>0.0</td>\n",
       "      <td>22.0</td>\n",
       "      <td>22.0</td>\n",
       "      <td>22.0</td>\n",
       "      <td>22.0</td>\n",
       "      <td>22.0</td>\n",
       "    </tr>\n",
       "    <tr>\n",
       "      <th>CILEBUT-JAKARTAKOTA</th>\n",
       "      <td>1.0</td>\n",
       "      <td>22.0</td>\n",
       "      <td>NaN</td>\n",
       "      <td>22.0</td>\n",
       "      <td>22.0</td>\n",
       "      <td>22.0</td>\n",
       "      <td>22.0</td>\n",
       "      <td>22.0</td>\n",
       "    </tr>\n",
       "    <tr>\n",
       "      <th>NAMBO-JAKARTAKOTA</th>\n",
       "      <td>12.0</td>\n",
       "      <td>22.0</td>\n",
       "      <td>0.0</td>\n",
       "      <td>22.0</td>\n",
       "      <td>22.0</td>\n",
       "      <td>22.0</td>\n",
       "      <td>22.0</td>\n",
       "      <td>22.0</td>\n",
       "    </tr>\n",
       "    <tr>\n",
       "      <th>...</th>\n",
       "      <td>...</td>\n",
       "      <td>...</td>\n",
       "      <td>...</td>\n",
       "      <td>...</td>\n",
       "      <td>...</td>\n",
       "      <td>...</td>\n",
       "      <td>...</td>\n",
       "      <td>...</td>\n",
       "    </tr>\n",
       "    <tr>\n",
       "      <th>JAKARTAKOTA-TANJUNGPRIUK</th>\n",
       "      <td>43.0</td>\n",
       "      <td>3.0</td>\n",
       "      <td>0.0</td>\n",
       "      <td>3.0</td>\n",
       "      <td>3.0</td>\n",
       "      <td>3.0</td>\n",
       "      <td>3.0</td>\n",
       "      <td>3.0</td>\n",
       "    </tr>\n",
       "    <tr>\n",
       "      <th>SERPONG-PARUNGPANJANG</th>\n",
       "      <td>1.0</td>\n",
       "      <td>3.0</td>\n",
       "      <td>NaN</td>\n",
       "      <td>3.0</td>\n",
       "      <td>3.0</td>\n",
       "      <td>3.0</td>\n",
       "      <td>3.0</td>\n",
       "      <td>3.0</td>\n",
       "    </tr>\n",
       "    <tr>\n",
       "      <th>DEPOK-NAMBO</th>\n",
       "      <td>2.0</td>\n",
       "      <td>3.0</td>\n",
       "      <td>0.0</td>\n",
       "      <td>3.0</td>\n",
       "      <td>3.0</td>\n",
       "      <td>3.0</td>\n",
       "      <td>3.0</td>\n",
       "      <td>3.0</td>\n",
       "    </tr>\n",
       "    <tr>\n",
       "      <th>DEPOK-BOJONGGEDE</th>\n",
       "      <td>2.0</td>\n",
       "      <td>2.0</td>\n",
       "      <td>0.0</td>\n",
       "      <td>2.0</td>\n",
       "      <td>2.0</td>\n",
       "      <td>2.0</td>\n",
       "      <td>2.0</td>\n",
       "      <td>2.0</td>\n",
       "    </tr>\n",
       "    <tr>\n",
       "      <th>RANGKASBITUNG-MERAK</th>\n",
       "      <td>7.0</td>\n",
       "      <td>1.0</td>\n",
       "      <td>0.0</td>\n",
       "      <td>1.0</td>\n",
       "      <td>1.0</td>\n",
       "      <td>1.0</td>\n",
       "      <td>1.0</td>\n",
       "      <td>1.0</td>\n",
       "    </tr>\n",
       "  </tbody>\n",
       "</table>\n",
       "<p>69 rows × 8 columns</p>\n",
       "</div>"
      ],
      "text/plain": [
       "                          count  mean  std   min   25%   50%   75%   max\n",
       "route                                                                   \n",
       "JAKARTAKOTA-BOGOR         120.0  23.0  0.0  23.0  23.0  23.0  23.0  23.0\n",
       "BOGOR-JAKARTAKOTA         116.0  23.0  0.0  23.0  23.0  23.0  23.0  23.0\n",
       "JAKARTAKOTA-NAMBO          10.0  22.0  0.0  22.0  22.0  22.0  22.0  22.0\n",
       "CILEBUT-JAKARTAKOTA         1.0  22.0  NaN  22.0  22.0  22.0  22.0  22.0\n",
       "NAMBO-JAKARTAKOTA          12.0  22.0  0.0  22.0  22.0  22.0  22.0  22.0\n",
       "...                         ...   ...  ...   ...   ...   ...   ...   ...\n",
       "JAKARTAKOTA-TANJUNGPRIUK   43.0   3.0  0.0   3.0   3.0   3.0   3.0   3.0\n",
       "SERPONG-PARUNGPANJANG       1.0   3.0  NaN   3.0   3.0   3.0   3.0   3.0\n",
       "DEPOK-NAMBO                 2.0   3.0  0.0   3.0   3.0   3.0   3.0   3.0\n",
       "DEPOK-BOJONGGEDE            2.0   2.0  0.0   2.0   2.0   2.0   2.0   2.0\n",
       "RANGKASBITUNG-MERAK         7.0   1.0  0.0   1.0   1.0   1.0   1.0   1.0\n",
       "\n",
       "[69 rows x 8 columns]"
      ]
     },
     "execution_count": 38,
     "metadata": {},
     "output_type": "execute_result"
    }
   ],
   "source": [
    "train.groupby('route')['no_station'].describe().sort_values(by='mean', ascending=False)"
   ]
  },
  {
   "cell_type": "code",
   "execution_count": 39,
   "metadata": {
    "executionInfo": {
     "elapsed": 18,
     "status": "aborted",
     "timestamp": 1712250497612,
     "user": {
      "displayName": "fikaaw braincore",
      "userId": "06038774151748129223"
     },
     "user_tz": -420
    },
    "id": "l-zmXR1uBS84"
   },
   "outputs": [
    {
     "data": {
      "image/png": "[encoded data removed]",
      "text/plain": [
       "<Figure size 640x480 with 1 Axes>"
      ]
     },
     "metadata": {},
     "output_type": "display_data"
    }
   ],
   "source": [
    "train.groupby('route')['no_station'].mean().plot(kind='hist')\n",
    "plt.title('Distribution of Average Number of Station in Each Route') # Distribusi rata rata angka stasiun per rute = jadi per rute itu ada berapa stasiun gitu\n",
    "plt.show()"
   ]
  },
  {
   "cell_type": "markdown",
   "metadata": {
    "id": "aVnBr08eBS84"
   },
   "source": [
    "### 14. Rata-rata waktu tempuh perline-perroute"
   ]
  },
  {
   "cell_type": "code",
   "execution_count": 40,
   "metadata": {
    "executionInfo": {
     "elapsed": 18,
     "status": "aborted",
     "timestamp": 1712250497612,
     "user": {
      "displayName": "fikaaw braincore",
      "userId": "06038774151748129223"
     },
     "user_tz": -420
    },
    "id": "iNnDYs00BS84"
   },
   "outputs": [
    {
     "data": {
      "text/plain": [
       "line\n",
       "COMMUTERLINE MERAK             106.857143\n",
       "COMMUTER LINE RANGKASBITUNG     84.691176\n",
       "COMMUTER LINE YK                83.933333\n",
       "COMMUTER LINE BOGOR             72.940104\n",
       "PRAMBANAN EKSPRES (PRAMEKS)     71.857143\n",
       "PRAMBANAN EKSPRES               68.000000\n",
       "COMMUTER LINE CIKARANG          59.392157\n",
       "COMMUTER LINE BST               28.000000\n",
       "COMMUTER LINE TANGERANG         27.870968\n",
       "COMMUTER LINE TANJUNGPRIUK      16.000000\n",
       "Name: estimated_trip_time, dtype: float64"
      ]
     },
     "execution_count": 40,
     "metadata": {},
     "output_type": "execute_result"
    }
   ],
   "source": [
    "train.groupby('line')['estimated_trip_time'].mean().sort_values(ascending=False)"
   ]
  },
  {
   "cell_type": "code",
   "execution_count": 41,
   "metadata": {
    "executionInfo": {
     "elapsed": 18,
     "status": "aborted",
     "timestamp": 1712250497612,
     "user": {
      "displayName": "fikaaw braincore",
      "userId": "06038774151748129223"
     },
     "user_tz": -420
    },
    "id": "VHQOPp7VBS84"
   },
   "outputs": [
    {
     "data": {
      "text/html": [
       "<div>\n",
       "<style scoped>\n",
       "    .dataframe tbody tr th:only-of-type {\n",
       "        vertical-align: middle;\n",
       "    }\n",
       "\n",
       "    .dataframe tbody tr th {\n",
       "        vertical-align: top;\n",
       "    }\n",
       "\n",
       "    .dataframe thead th {\n",
       "        text-align: right;\n",
       "    }\n",
       "</style>\n",
       "<table border=\"1\" class=\"dataframe\">\n",
       "  <thead>\n",
       "    <tr style=\"text-align: right;\">\n",
       "      <th></th>\n",
       "      <th>id_x</th>\n",
       "      <th>station_id</th>\n",
       "      <th>train_id</th>\n",
       "      <th>line</th>\n",
       "      <th>route</th>\n",
       "      <th>color</th>\n",
       "      <th>destination</th>\n",
       "      <th>time_estimated</th>\n",
       "      <th>destination_time</th>\n",
       "      <th>station_name</th>\n",
       "      <th>origin</th>\n",
       "      <th>time_estimated_hour</th>\n",
       "      <th>estimated_trip_time</th>\n",
       "    </tr>\n",
       "  </thead>\n",
       "  <tbody>\n",
       "    <tr>\n",
       "      <th>18050</th>\n",
       "      <td>YK-662</td>\n",
       "      <td>YK</td>\n",
       "      <td>662</td>\n",
       "      <td>COMMUTER LINE YK</td>\n",
       "      <td>YOGYAKARTA-PALUR</td>\n",
       "      <td>#E30A16</td>\n",
       "      <td>PALUR</td>\n",
       "      <td>1900-01-01 06:50:00</td>\n",
       "      <td>1900-01-01 08:15:00</td>\n",
       "      <td>YOGYAKARTA</td>\n",
       "      <td>YOGYAKARTA</td>\n",
       "      <td>6</td>\n",
       "      <td>85.0</td>\n",
       "    </tr>\n",
       "    <tr>\n",
       "      <th>10180</th>\n",
       "      <td>LPN-662</td>\n",
       "      <td>LPN</td>\n",
       "      <td>662</td>\n",
       "      <td>COMMUTER LINE YK</td>\n",
       "      <td>YOGYAKARTA-PALUR</td>\n",
       "      <td>#E30A16</td>\n",
       "      <td>PALUR</td>\n",
       "      <td>1900-01-01 06:55:00</td>\n",
       "      <td>1900-01-01 08:15:00</td>\n",
       "      <td>LEMPUYANGAN</td>\n",
       "      <td>YOGYAKARTA</td>\n",
       "      <td>6</td>\n",
       "      <td>80.0</td>\n",
       "    </tr>\n",
       "    <tr>\n",
       "      <th>10497</th>\n",
       "      <td>MGW-662</td>\n",
       "      <td>MGW</td>\n",
       "      <td>662</td>\n",
       "      <td>COMMUTER LINE YK</td>\n",
       "      <td>YOGYAKARTA-PALUR</td>\n",
       "      <td>#E30A16</td>\n",
       "      <td>PALUR</td>\n",
       "      <td>1900-01-01 07:02:00</td>\n",
       "      <td>1900-01-01 08:15:00</td>\n",
       "      <td>MAGUWO</td>\n",
       "      <td>YOGYAKARTA</td>\n",
       "      <td>7</td>\n",
       "      <td>73.0</td>\n",
       "    </tr>\n",
       "    <tr>\n",
       "      <th>282</th>\n",
       "      <td>BBN-662</td>\n",
       "      <td>BBN</td>\n",
       "      <td>662</td>\n",
       "      <td>COMMUTER LINE YK</td>\n",
       "      <td>YOGYAKARTA-PALUR</td>\n",
       "      <td>#E30A16</td>\n",
       "      <td>PALUR</td>\n",
       "      <td>1900-01-01 07:10:00</td>\n",
       "      <td>1900-01-01 08:15:00</td>\n",
       "      <td>BRAMBANAN</td>\n",
       "      <td>YOGYAKARTA</td>\n",
       "      <td>7</td>\n",
       "      <td>65.0</td>\n",
       "    </tr>\n",
       "    <tr>\n",
       "      <th>15293</th>\n",
       "      <td>SWT-662</td>\n",
       "      <td>SWT</td>\n",
       "      <td>662</td>\n",
       "      <td>COMMUTER LINE YK</td>\n",
       "      <td>YOGYAKARTA-PALUR</td>\n",
       "      <td>#E30A16</td>\n",
       "      <td>PALUR</td>\n",
       "      <td>1900-01-01 07:17:00</td>\n",
       "      <td>1900-01-01 08:15:00</td>\n",
       "      <td>SROWOT</td>\n",
       "      <td>YOGYAKARTA</td>\n",
       "      <td>7</td>\n",
       "      <td>58.0</td>\n",
       "    </tr>\n",
       "    <tr>\n",
       "      <th>9808</th>\n",
       "      <td>KT-662</td>\n",
       "      <td>KT</td>\n",
       "      <td>662</td>\n",
       "      <td>COMMUTER LINE YK</td>\n",
       "      <td>YOGYAKARTA-PALUR</td>\n",
       "      <td>#E30A16</td>\n",
       "      <td>PALUR</td>\n",
       "      <td>1900-01-01 07:24:00</td>\n",
       "      <td>1900-01-01 08:15:00</td>\n",
       "      <td>KLATEN</td>\n",
       "      <td>YOGYAKARTA</td>\n",
       "      <td>7</td>\n",
       "      <td>51.0</td>\n",
       "    </tr>\n",
       "    <tr>\n",
       "      <th>2071</th>\n",
       "      <td>CE-662</td>\n",
       "      <td>CE</td>\n",
       "      <td>662</td>\n",
       "      <td>COMMUTER LINE YK</td>\n",
       "      <td>YOGYAKARTA-PALUR</td>\n",
       "      <td>#E30A16</td>\n",
       "      <td>PALUR</td>\n",
       "      <td>1900-01-01 07:33:00</td>\n",
       "      <td>1900-01-01 08:15:00</td>\n",
       "      <td>CEPER</td>\n",
       "      <td>YOGYAKARTA</td>\n",
       "      <td>7</td>\n",
       "      <td>42.0</td>\n",
       "    </tr>\n",
       "    <tr>\n",
       "      <th>4662</th>\n",
       "      <td>DL-662</td>\n",
       "      <td>DL</td>\n",
       "      <td>662</td>\n",
       "      <td>COMMUTER LINE YK</td>\n",
       "      <td>YOGYAKARTA-PALUR</td>\n",
       "      <td>#E30A16</td>\n",
       "      <td>PALUR</td>\n",
       "      <td>1900-01-01 07:40:00</td>\n",
       "      <td>1900-01-01 08:15:00</td>\n",
       "      <td>DELANGGU</td>\n",
       "      <td>YOGYAKARTA</td>\n",
       "      <td>7</td>\n",
       "      <td>35.0</td>\n",
       "    </tr>\n",
       "    <tr>\n",
       "      <th>6582</th>\n",
       "      <td>GW-662</td>\n",
       "      <td>GW</td>\n",
       "      <td>662</td>\n",
       "      <td>COMMUTER LINE YK</td>\n",
       "      <td>YOGYAKARTA-PALUR</td>\n",
       "      <td>#E30A16</td>\n",
       "      <td>PALUR</td>\n",
       "      <td>1900-01-01 07:46:00</td>\n",
       "      <td>1900-01-01 08:15:00</td>\n",
       "      <td>GAWOK</td>\n",
       "      <td>YOGYAKARTA</td>\n",
       "      <td>7</td>\n",
       "      <td>29.0</td>\n",
       "    </tr>\n",
       "    <tr>\n",
       "      <th>13469</th>\n",
       "      <td>PWS-662</td>\n",
       "      <td>PWS</td>\n",
       "      <td>662</td>\n",
       "      <td>COMMUTER LINE YK</td>\n",
       "      <td>YOGYAKARTA-PALUR</td>\n",
       "      <td>#E30A16</td>\n",
       "      <td>PALUR</td>\n",
       "      <td>1900-01-01 07:53:00</td>\n",
       "      <td>1900-01-01 08:15:00</td>\n",
       "      <td>PURWOSARI</td>\n",
       "      <td>YOGYAKARTA</td>\n",
       "      <td>7</td>\n",
       "      <td>22.0</td>\n",
       "    </tr>\n",
       "    <tr>\n",
       "      <th>14253</th>\n",
       "      <td>SLO-662</td>\n",
       "      <td>SLO</td>\n",
       "      <td>662</td>\n",
       "      <td>COMMUTER LINE YK</td>\n",
       "      <td>YOGYAKARTA-PALUR</td>\n",
       "      <td>#E30A16</td>\n",
       "      <td>PALUR</td>\n",
       "      <td>1900-01-01 08:04:00</td>\n",
       "      <td>1900-01-01 08:15:00</td>\n",
       "      <td>SOLO BALAPAN</td>\n",
       "      <td>YOGYAKARTA</td>\n",
       "      <td>8</td>\n",
       "      <td>11.0</td>\n",
       "    </tr>\n",
       "    <tr>\n",
       "      <th>14223</th>\n",
       "      <td>SK-662</td>\n",
       "      <td>SK</td>\n",
       "      <td>662</td>\n",
       "      <td>COMMUTER LINE YK</td>\n",
       "      <td>YOGYAKARTA-PALUR</td>\n",
       "      <td>#E30A16</td>\n",
       "      <td>PALUR</td>\n",
       "      <td>1900-01-01 08:10:00</td>\n",
       "      <td>1900-01-01 08:15:00</td>\n",
       "      <td>SOLO JEBRES</td>\n",
       "      <td>YOGYAKARTA</td>\n",
       "      <td>8</td>\n",
       "      <td>5.0</td>\n",
       "    </tr>\n",
       "  </tbody>\n",
       "</table>\n",
       "</div>"
      ],
      "text/plain": [
       "          id_x station_id train_id              line             route  \\\n",
       "18050   YK-662         YK      662  COMMUTER LINE YK  YOGYAKARTA-PALUR   \n",
       "10180  LPN-662        LPN      662  COMMUTER LINE YK  YOGYAKARTA-PALUR   \n",
       "10497  MGW-662        MGW      662  COMMUTER LINE YK  YOGYAKARTA-PALUR   \n",
       "282    BBN-662        BBN      662  COMMUTER LINE YK  YOGYAKARTA-PALUR   \n",
       "15293  SWT-662        SWT      662  COMMUTER LINE YK  YOGYAKARTA-PALUR   \n",
       "9808    KT-662         KT      662  COMMUTER LINE YK  YOGYAKARTA-PALUR   \n",
       "2071    CE-662         CE      662  COMMUTER LINE YK  YOGYAKARTA-PALUR   \n",
       "4662    DL-662         DL      662  COMMUTER LINE YK  YOGYAKARTA-PALUR   \n",
       "6582    GW-662         GW      662  COMMUTER LINE YK  YOGYAKARTA-PALUR   \n",
       "13469  PWS-662        PWS      662  COMMUTER LINE YK  YOGYAKARTA-PALUR   \n",
       "14253  SLO-662        SLO      662  COMMUTER LINE YK  YOGYAKARTA-PALUR   \n",
       "14223   SK-662         SK      662  COMMUTER LINE YK  YOGYAKARTA-PALUR   \n",
       "\n",
       "         color destination      time_estimated    destination_time  \\\n",
       "18050  #E30A16       PALUR 1900-01-01 06:50:00 1900-01-01 08:15:00   \n",
       "10180  #E30A16       PALUR 1900-01-01 06:55:00 1900-01-01 08:15:00   \n",
       "10497  #E30A16       PALUR 1900-01-01 07:02:00 1900-01-01 08:15:00   \n",
       "282    #E30A16       PALUR 1900-01-01 07:10:00 1900-01-01 08:15:00   \n",
       "15293  #E30A16       PALUR 1900-01-01 07:17:00 1900-01-01 08:15:00   \n",
       "9808   #E30A16       PALUR 1900-01-01 07:24:00 1900-01-01 08:15:00   \n",
       "2071   #E30A16       PALUR 1900-01-01 07:33:00 1900-01-01 08:15:00   \n",
       "4662   #E30A16       PALUR 1900-01-01 07:40:00 1900-01-01 08:15:00   \n",
       "6582   #E30A16       PALUR 1900-01-01 07:46:00 1900-01-01 08:15:00   \n",
       "13469  #E30A16       PALUR 1900-01-01 07:53:00 1900-01-01 08:15:00   \n",
       "14253  #E30A16       PALUR 1900-01-01 08:04:00 1900-01-01 08:15:00   \n",
       "14223  #E30A16       PALUR 1900-01-01 08:10:00 1900-01-01 08:15:00   \n",
       "\n",
       "       station_name      origin  time_estimated_hour  estimated_trip_time  \n",
       "18050    YOGYAKARTA  YOGYAKARTA                    6                 85.0  \n",
       "10180   LEMPUYANGAN  YOGYAKARTA                    6                 80.0  \n",
       "10497        MAGUWO  YOGYAKARTA                    7                 73.0  \n",
       "282       BRAMBANAN  YOGYAKARTA                    7                 65.0  \n",
       "15293        SROWOT  YOGYAKARTA                    7                 58.0  \n",
       "9808         KLATEN  YOGYAKARTA                    7                 51.0  \n",
       "2071          CEPER  YOGYAKARTA                    7                 42.0  \n",
       "4662       DELANGGU  YOGYAKARTA                    7                 35.0  \n",
       "6582          GAWOK  YOGYAKARTA                    7                 29.0  \n",
       "13469     PURWOSARI  YOGYAKARTA                    7                 22.0  \n",
       "14253  SOLO BALAPAN  YOGYAKARTA                    8                 11.0  \n",
       "14223   SOLO JEBRES  YOGYAKARTA                    8                  5.0  "
      ]
     },
     "execution_count": 41,
     "metadata": {},
     "output_type": "execute_result"
    }
   ],
   "source": [
    "df[df['train_id'] == '662'].sort_values(by='time_estimated')"
   ]
  },
  {
   "cell_type": "markdown",
   "metadata": {
    "executionInfo": {
     "elapsed": 19,
     "status": "aborted",
     "timestamp": 1712250497613,
     "user": {
      "displayName": "fikaaw braincore",
      "userId": "06038774151748129223"
     },
     "user_tz": -420
    },
    "id": "bsLn6S4kFKyP"
   },
   "source": [
    "## Informasi Tambahan"
   ]
  },
  {
   "cell_type": "code",
   "execution_count": 42,
   "metadata": {},
   "outputs": [
    {
     "name": "stdout",
     "output_type": "stream",
     "text": [
      "Kereta yang tersedia: 1284 unit\n"
     ]
    }
   ],
   "source": [
    "# total kereta yang tersedia\n",
    "print(\"Kereta yang tersedia:\", df[\"train_id\"].nunique(), \"unit\")"
   ]
  },
  {
   "cell_type": "code",
   "execution_count": 43,
   "metadata": {},
   "outputs": [
    {
     "data": {
      "text/plain": [
       "train_id\n",
       "1000B       1\n",
       "312         1\n",
       "4070        1\n",
       "4069        1\n",
       "4068A       1\n",
       "           ..\n",
       "1652        1\n",
       "1651        1\n",
       "1650        1\n",
       "1649        1\n",
       "D1/5714A    1\n",
       "Name: line, Length: 1284, dtype: int64"
      ]
     },
     "execution_count": 43,
     "metadata": {},
     "output_type": "execute_result"
    }
   ],
   "source": [
    "# apakah ada kereta yang melewati lebih dari satu line (jawabannya tidak ada)\n",
    "df.groupby(\"train_id\")[\"line\"].nunique().sort_values(ascending=False)"
   ]
  },
  {
   "cell_type": "code",
   "execution_count": 44,
   "metadata": {},
   "outputs": [
    {
     "data": {
      "text/plain": [
       "train_id\n",
       "1000B       1\n",
       "312         1\n",
       "4070        1\n",
       "4069        1\n",
       "4068A       1\n",
       "           ..\n",
       "1652        1\n",
       "1651        1\n",
       "1650        1\n",
       "1649        1\n",
       "D1/5714A    1\n",
       "Name: route, Length: 1284, dtype: int64"
      ]
     },
     "execution_count": 44,
     "metadata": {},
     "output_type": "execute_result"
    }
   ],
   "source": [
    "# apakah ada kereta yang mempunya lebih dari satu rute\n",
    "df.groupby(\"train_id\")[\"route\"].nunique().sort_values(ascending=False)"
   ]
  },
  {
   "cell_type": "code",
   "execution_count": 45,
   "metadata": {},
   "outputs": [
    {
     "data": {
      "image/png": "[encoded data removed]",
      "text/plain": [
       "<Figure size 640x480 with 1 Axes>"
      ]
     },
     "metadata": {},
     "output_type": "display_data"
    },
    {
     "data": {
      "text/plain": [
       "line\n",
       "COMMUTER LINE BOGOR            29.91\n",
       "COMMUTER LINE CIKARANG         27.80\n",
       "COMMUTER LINE RANGKASBITUNG    15.89\n",
       "COMMUTER LINE TANGERANG         9.66\n",
       "COMMUTER LINE TANJUNGPRIUK      6.70\n",
       "COMMUTER LINE BST               6.54\n",
       "COMMUTER LINE YK                2.34\n",
       "COMMUTERLINE MERAK              0.55\n",
       "PRAMBANAN EKSPRES (PRAMEKS)     0.55\n",
       "PRAMBANAN EKSPRES               0.08\n",
       "Name: train_id, dtype: float64"
      ]
     },
     "execution_count": 45,
     "metadata": {},
     "output_type": "execute_result"
    }
   ],
   "source": [
    "# distribusi kereta yang tersedia by line\n",
    "df.groupby(\"line\")[\"train_id\"].nunique().sort_values(ascending=False).plot(kind=\"pie\")\n",
    "plt.title(\"Distribusi Kereta by Commuter Line\")\n",
    "plt.ylabel(\"\")\n",
    "plt.show()\n",
    "\n",
    "line_dist = round(df.groupby(\"line\")[\"train_id\"].nunique().sort_values(ascending=False) / df[\"train_id\"].nunique() * 100, 2)\n",
    "line_dist"
   ]
  },
  {
   "cell_type": "code",
   "execution_count": 46,
   "metadata": {},
   "outputs": [
    {
     "data": {
      "image/png": "[encoded data removed]",
      "text/plain": [
       "<Figure size 640x480 with 1 Axes>"
      ]
     },
     "metadata": {},
     "output_type": "display_data"
    }
   ],
   "source": [
    "# kapan waktu puncak keterediaan kereta\n",
    "df.groupby('time_estimated_hour')['train_id'].nunique().plot(kind=\"bar\")\n",
    "plt.title(\"Distribusi Kereta yang Berangkat Seiring Waktu\")\n",
    "plt.xlabel(\"Jam Keberangkatan\")\n",
    "plt.ylabel(\"Total Kereta\")\n",
    "plt.show()"
   ]
  },
  {
   "cell_type": "code",
   "execution_count": 47,
   "metadata": {},
   "outputs": [
    {
     "name": "stdout",
     "output_type": "stream",
     "text": [
      "STASIUN TERSIBUK\n"
     ]
    },
    {
     "data": {
      "text/plain": [
       "station_name\n",
       "MANGGARAI     532\n",
       "TANAHABANG    363\n",
       "DURI          357\n",
       "CITAYAM       356\n",
       "DEPOK         347\n",
       "Name: train_id, dtype: int64"
      ]
     },
     "execution_count": 47,
     "metadata": {},
     "output_type": "execute_result"
    }
   ],
   "source": [
    "# stasiun dengan ketersediaan kereta terbanyak\n",
    "top_busiest_station = df.groupby(\"station_name\")[\"train_id\"].nunique().sort_values(ascending=False).head(5)\n",
    "print(\"STASIUN TERSIBUK\")\n",
    "top_busiest_station"
   ]
  },
  {
   "cell_type": "code",
   "execution_count": 48,
   "metadata": {},
   "outputs": [
    {
     "name": "stdout",
     "output_type": "stream",
     "text": [
      "Maximal line yang tersedia di satu stasiun: 4\n",
      "Stasiun dengan line tersedia terbanyak:\n"
     ]
    },
    {
     "data": {
      "text/plain": [
       "station_name\n",
       "KARET            4\n",
       "MANGGARAI        4\n",
       "SUDIRMAN         4\n",
       "SUDIRMAN BARU    4\n",
       "TANAHABANG       4\n",
       "Name: line, dtype: int64"
      ]
     },
     "execution_count": 48,
     "metadata": {},
     "output_type": "execute_result"
    }
   ],
   "source": [
    "# stasiun dengan line terbanyak\n",
    "print(\"Maximal line yang tersedia di satu stasiun:\", df.groupby(\"station_name\")[\"line\"].nunique().max())\n",
    "print(\"Stasiun dengan line tersedia terbanyak:\")\n",
    "line_passed = df.groupby(\"station_name\")[\"line\"].nunique()\n",
    "line_passed[line_passed == 4]"
   ]
  },
  {
   "cell_type": "code",
   "execution_count": 49,
   "metadata": {},
   "outputs": [
    {
     "name": "stdout",
     "output_type": "stream",
     "text": [
      "Tujuan akhir stasiun dari rute\n"
     ]
    },
    {
     "data": {
      "text/plain": [
       "destination\n",
       "JAKARTAKOTA      8\n",
       "MANGGARAI        8\n",
       "CIKARANG         6\n",
       "BEKASI           4\n",
       "TANAHABANG       4\n",
       "KAMPUNGBANDAN    4\n",
       "Name: route, dtype: int64"
      ]
     },
     "execution_count": 49,
     "metadata": {},
     "output_type": "execute_result"
    }
   ],
   "source": [
    "# tujuan akhir terbanyak berdasarkan rute\n",
    "print(\"Tujuan akhir stasiun dari rute\")\n",
    "df.groupby(\"destination\")[\"route\"].nunique().sort_values(ascending=False).head(6)"
   ]
  },
  {
   "cell_type": "code",
   "execution_count": 50,
   "metadata": {},
   "outputs": [
    {
     "data": {
      "text/plain": [
       "array(['KAMPUNGBANDAN-CIKARANG', 'ANGKE-CIKARANG', 'JAKARTAKOTA-CIKARANG',\n",
       "       'BEKASI-CIKARANG', 'MANGGARAI-CIKARANG', 'CAKUNG-CIKARANG'],\n",
       "      dtype=object)"
      ]
     },
     "execution_count": 50,
     "metadata": {},
     "output_type": "execute_result"
    }
   ],
   "source": [
    "# mengambil contoh destinati akhir di cikarang\n",
    "df[df[\"destination\"] == \"CIKARANG\"][\"route\"].unique()"
   ]
  },
  {
   "cell_type": "code",
   "execution_count": 51,
   "metadata": {},
   "outputs": [
    {
     "data": {
      "image/png": "[encoded data removed]",
      "text/plain": [
       "<Figure size 640x480 with 1 Axes>"
      ]
     },
     "metadata": {},
     "output_type": "display_data"
    }
   ],
   "source": [
    "station.groupby([\"daop\", \"have_schedule\"])[\"name\"].nunique().plot(kind=\"bar\")\n",
    "plt.ylabel(\"Jumlah Stasiun\")\n",
    "plt.title(\"Banyaknya Stasiun Berdasarkan Daop\")\n",
    "plt.show()"
   ]
  },
  {
   "cell_type": "code",
   "execution_count": 52,
   "metadata": {},
   "outputs": [
    {
     "data": {
      "text/html": [
       "<div>\n",
       "<style scoped>\n",
       "    .dataframe tbody tr th:only-of-type {\n",
       "        vertical-align: middle;\n",
       "    }\n",
       "\n",
       "    .dataframe tbody tr th {\n",
       "        vertical-align: top;\n",
       "    }\n",
       "\n",
       "    .dataframe thead th {\n",
       "        text-align: right;\n",
       "    }\n",
       "</style>\n",
       "<table border=\"1\" class=\"dataframe\">\n",
       "  <thead>\n",
       "    <tr style=\"text-align: right;\">\n",
       "      <th></th>\n",
       "      <th>id</th>\n",
       "      <th>name</th>\n",
       "      <th>daop</th>\n",
       "      <th>fg_enable</th>\n",
       "      <th>have_schedule</th>\n",
       "      <th>updated_at</th>\n",
       "    </tr>\n",
       "  </thead>\n",
       "  <tbody>\n",
       "    <tr>\n",
       "      <th>3</th>\n",
       "      <td>BD</td>\n",
       "      <td>BANDUNG</td>\n",
       "      <td>2</td>\n",
       "      <td>1</td>\n",
       "      <td>False</td>\n",
       "      <td>2024-03-10T15:15:19.997Z</td>\n",
       "    </tr>\n",
       "    <tr>\n",
       "      <th>12</th>\n",
       "      <td>CA</td>\n",
       "      <td>CIGANEA</td>\n",
       "      <td>2</td>\n",
       "      <td>1</td>\n",
       "      <td>False</td>\n",
       "      <td>2024-03-10T15:15:19.997Z</td>\n",
       "    </tr>\n",
       "    <tr>\n",
       "      <th>13</th>\n",
       "      <td>CB</td>\n",
       "      <td>CIBATU</td>\n",
       "      <td>2</td>\n",
       "      <td>1</td>\n",
       "      <td>False</td>\n",
       "      <td>2024-03-10T15:15:19.997Z</td>\n",
       "    </tr>\n",
       "    <tr>\n",
       "      <th>15</th>\n",
       "      <td>CBR</td>\n",
       "      <td>CIBUNGUR</td>\n",
       "      <td>2</td>\n",
       "      <td>1</td>\n",
       "      <td>False</td>\n",
       "      <td>2024-03-10T15:15:19.997Z</td>\n",
       "    </tr>\n",
       "    <tr>\n",
       "      <th>17</th>\n",
       "      <td>CCL</td>\n",
       "      <td>CICALENGKA</td>\n",
       "      <td>2</td>\n",
       "      <td>1</td>\n",
       "      <td>False</td>\n",
       "      <td>2024-03-10T15:15:19.997Z</td>\n",
       "    </tr>\n",
       "    <tr>\n",
       "      <th>18</th>\n",
       "      <td>CD</td>\n",
       "      <td>CIKADONGDONG</td>\n",
       "      <td>2</td>\n",
       "      <td>1</td>\n",
       "      <td>False</td>\n",
       "      <td>2024-03-10T15:15:19.997Z</td>\n",
       "    </tr>\n",
       "    <tr>\n",
       "      <th>23</th>\n",
       "      <td>CKP</td>\n",
       "      <td>CIKAMPEK</td>\n",
       "      <td>2</td>\n",
       "      <td>1</td>\n",
       "      <td>False</td>\n",
       "      <td>2024-03-10T15:15:19.997Z</td>\n",
       "    </tr>\n",
       "    <tr>\n",
       "      <th>26</th>\n",
       "      <td>CLE</td>\n",
       "      <td>CILAME</td>\n",
       "      <td>2</td>\n",
       "      <td>1</td>\n",
       "      <td>False</td>\n",
       "      <td>2024-03-10T15:15:19.997Z</td>\n",
       "    </tr>\n",
       "    <tr>\n",
       "      <th>28</th>\n",
       "      <td>CMD</td>\n",
       "      <td>CIMINDI</td>\n",
       "      <td>2</td>\n",
       "      <td>1</td>\n",
       "      <td>False</td>\n",
       "      <td>2024-03-10T15:15:19.997Z</td>\n",
       "    </tr>\n",
       "    <tr>\n",
       "      <th>29</th>\n",
       "      <td>CMI</td>\n",
       "      <td>CIMAHI</td>\n",
       "      <td>2</td>\n",
       "      <td>1</td>\n",
       "      <td>False</td>\n",
       "      <td>2024-03-10T15:15:19.997Z</td>\n",
       "    </tr>\n",
       "    <tr>\n",
       "      <th>30</th>\n",
       "      <td>CMK</td>\n",
       "      <td>CIMEKAR</td>\n",
       "      <td>2</td>\n",
       "      <td>1</td>\n",
       "      <td>False</td>\n",
       "      <td>2024-03-10T15:15:19.997Z</td>\n",
       "    </tr>\n",
       "    <tr>\n",
       "      <th>33</th>\n",
       "      <td>CTH</td>\n",
       "      <td>CIKUDAPATEUH</td>\n",
       "      <td>2</td>\n",
       "      <td>1</td>\n",
       "      <td>False</td>\n",
       "      <td>2024-03-10T15:15:19.997Z</td>\n",
       "    </tr>\n",
       "    <tr>\n",
       "      <th>43</th>\n",
       "      <td>DWN</td>\n",
       "      <td>DAWUAN</td>\n",
       "      <td>2</td>\n",
       "      <td>1</td>\n",
       "      <td>False</td>\n",
       "      <td>2024-03-10T15:15:19.997Z</td>\n",
       "    </tr>\n",
       "    <tr>\n",
       "      <th>44</th>\n",
       "      <td>GDB</td>\n",
       "      <td>GEDEBAGE</td>\n",
       "      <td>2</td>\n",
       "      <td>1</td>\n",
       "      <td>False</td>\n",
       "      <td>2024-03-10T15:15:19.997Z</td>\n",
       "    </tr>\n",
       "    <tr>\n",
       "      <th>47</th>\n",
       "      <td>GK</td>\n",
       "      <td>GADOBANGKONG</td>\n",
       "      <td>2</td>\n",
       "      <td>1</td>\n",
       "      <td>False</td>\n",
       "      <td>2024-03-10T15:15:19.997Z</td>\n",
       "    </tr>\n",
       "    <tr>\n",
       "      <th>48</th>\n",
       "      <td>GRT</td>\n",
       "      <td>GARUT</td>\n",
       "      <td>2</td>\n",
       "      <td>1</td>\n",
       "      <td>False</td>\n",
       "      <td>2024-03-10T15:15:19.997Z</td>\n",
       "    </tr>\n",
       "    <tr>\n",
       "      <th>51</th>\n",
       "      <td>HRP</td>\n",
       "      <td>HAURPUGUR</td>\n",
       "      <td>2</td>\n",
       "      <td>1</td>\n",
       "      <td>False</td>\n",
       "      <td>2024-03-10T15:15:19.997Z</td>\n",
       "    </tr>\n",
       "    <tr>\n",
       "      <th>58</th>\n",
       "      <td>KAC</td>\n",
       "      <td>KIARACONDONG</td>\n",
       "      <td>2</td>\n",
       "      <td>1</td>\n",
       "      <td>False</td>\n",
       "      <td>2024-03-10T15:15:19.997Z</td>\n",
       "    </tr>\n",
       "    <tr>\n",
       "      <th>61</th>\n",
       "      <td>KDH</td>\n",
       "      <td>KEDUNGGEDEH</td>\n",
       "      <td>2</td>\n",
       "      <td>1</td>\n",
       "      <td>False</td>\n",
       "      <td>2024-03-10T15:15:19.997Z</td>\n",
       "    </tr>\n",
       "    <tr>\n",
       "      <th>65</th>\n",
       "      <td>KLI</td>\n",
       "      <td>KLARI</td>\n",
       "      <td>2</td>\n",
       "      <td>1</td>\n",
       "      <td>False</td>\n",
       "      <td>2024-03-10T15:15:19.997Z</td>\n",
       "    </tr>\n",
       "    <tr>\n",
       "      <th>68</th>\n",
       "      <td>KOS</td>\n",
       "      <td>KOSAMBI</td>\n",
       "      <td>2</td>\n",
       "      <td>1</td>\n",
       "      <td>False</td>\n",
       "      <td>2024-03-10T15:15:19.997Z</td>\n",
       "    </tr>\n",
       "    <tr>\n",
       "      <th>70</th>\n",
       "      <td>KRAI</td>\n",
       "      <td>KARANGSARI</td>\n",
       "      <td>2</td>\n",
       "      <td>1</td>\n",
       "      <td>False</td>\n",
       "      <td>2024-03-10T15:15:19.997Z</td>\n",
       "    </tr>\n",
       "    <tr>\n",
       "      <th>74</th>\n",
       "      <td>KW</td>\n",
       "      <td>KARAWANG</td>\n",
       "      <td>2</td>\n",
       "      <td>1</td>\n",
       "      <td>False</td>\n",
       "      <td>2024-03-10T15:15:19.997Z</td>\n",
       "    </tr>\n",
       "    <tr>\n",
       "      <th>75</th>\n",
       "      <td>LBJ</td>\n",
       "      <td>LEBAKJERO</td>\n",
       "      <td>2</td>\n",
       "      <td>1</td>\n",
       "      <td>False</td>\n",
       "      <td>2024-03-10T15:15:19.997Z</td>\n",
       "    </tr>\n",
       "    <tr>\n",
       "      <th>76</th>\n",
       "      <td>LL</td>\n",
       "      <td>LELES</td>\n",
       "      <td>2</td>\n",
       "      <td>1</td>\n",
       "      <td>False</td>\n",
       "      <td>2024-03-10T15:15:19.997Z</td>\n",
       "    </tr>\n",
       "    <tr>\n",
       "      <th>77</th>\n",
       "      <td>LMB</td>\n",
       "      <td>LEMAHABANG</td>\n",
       "      <td>2</td>\n",
       "      <td>1</td>\n",
       "      <td>False</td>\n",
       "      <td>2024-03-10T15:15:19.997Z</td>\n",
       "    </tr>\n",
       "    <tr>\n",
       "      <th>79</th>\n",
       "      <td>LO</td>\n",
       "      <td>LEUWIGOONG</td>\n",
       "      <td>2</td>\n",
       "      <td>1</td>\n",
       "      <td>False</td>\n",
       "      <td>2024-03-10T15:15:19.997Z</td>\n",
       "    </tr>\n",
       "    <tr>\n",
       "      <th>85</th>\n",
       "      <td>MSI</td>\n",
       "      <td>MASWATI</td>\n",
       "      <td>2</td>\n",
       "      <td>1</td>\n",
       "      <td>False</td>\n",
       "      <td>2024-03-10T15:15:19.997Z</td>\n",
       "    </tr>\n",
       "    <tr>\n",
       "      <th>87</th>\n",
       "      <td>NG</td>\n",
       "      <td>NAGREG</td>\n",
       "      <td>2</td>\n",
       "      <td>1</td>\n",
       "      <td>False</td>\n",
       "      <td>2024-03-10T15:15:19.997Z</td>\n",
       "    </tr>\n",
       "    <tr>\n",
       "      <th>90</th>\n",
       "      <td>PDL</td>\n",
       "      <td>PADALARANG</td>\n",
       "      <td>2</td>\n",
       "      <td>1</td>\n",
       "      <td>False</td>\n",
       "      <td>2024-03-10T15:15:19.997Z</td>\n",
       "    </tr>\n",
       "    <tr>\n",
       "      <th>93</th>\n",
       "      <td>PLD</td>\n",
       "      <td>PLERED</td>\n",
       "      <td>2</td>\n",
       "      <td>1</td>\n",
       "      <td>False</td>\n",
       "      <td>2024-03-10T15:15:19.997Z</td>\n",
       "    </tr>\n",
       "    <tr>\n",
       "      <th>100</th>\n",
       "      <td>PSJ</td>\n",
       "      <td>PASIRJENGKOL</td>\n",
       "      <td>2</td>\n",
       "      <td>1</td>\n",
       "      <td>False</td>\n",
       "      <td>2024-03-10T15:15:19.997Z</td>\n",
       "    </tr>\n",
       "    <tr>\n",
       "      <th>103</th>\n",
       "      <td>PWK</td>\n",
       "      <td>PURWAKARTA</td>\n",
       "      <td>2</td>\n",
       "      <td>1</td>\n",
       "      <td>False</td>\n",
       "      <td>2024-03-10T15:15:19.997Z</td>\n",
       "    </tr>\n",
       "    <tr>\n",
       "      <th>105</th>\n",
       "      <td>RCK</td>\n",
       "      <td>RANCAEKEK</td>\n",
       "      <td>2</td>\n",
       "      <td>1</td>\n",
       "      <td>False</td>\n",
       "      <td>2024-03-10T15:15:19.997Z</td>\n",
       "    </tr>\n",
       "    <tr>\n",
       "      <th>106</th>\n",
       "      <td>RH</td>\n",
       "      <td>RENDEH</td>\n",
       "      <td>2</td>\n",
       "      <td>1</td>\n",
       "      <td>False</td>\n",
       "      <td>2024-03-10T15:15:19.997Z</td>\n",
       "    </tr>\n",
       "    <tr>\n",
       "      <th>113</th>\n",
       "      <td>SKT</td>\n",
       "      <td>SASAKSAAT</td>\n",
       "      <td>2</td>\n",
       "      <td>1</td>\n",
       "      <td>False</td>\n",
       "      <td>2024-03-10T15:15:19.997Z</td>\n",
       "    </tr>\n",
       "    <tr>\n",
       "      <th>118</th>\n",
       "      <td>SUT</td>\n",
       "      <td>SUKATANI</td>\n",
       "      <td>2</td>\n",
       "      <td>1</td>\n",
       "      <td>False</td>\n",
       "      <td>2024-03-10T15:15:19.997Z</td>\n",
       "    </tr>\n",
       "    <tr>\n",
       "      <th>135</th>\n",
       "      <td>WNR</td>\n",
       "      <td>WANARAJA</td>\n",
       "      <td>2</td>\n",
       "      <td>1</td>\n",
       "      <td>False</td>\n",
       "      <td>2024-03-10T15:15:19.997Z</td>\n",
       "    </tr>\n",
       "  </tbody>\n",
       "</table>\n",
       "</div>"
      ],
      "text/plain": [
       "       id          name  daop  fg_enable  have_schedule  \\\n",
       "3      BD       BANDUNG     2          1          False   \n",
       "12     CA       CIGANEA     2          1          False   \n",
       "13     CB        CIBATU     2          1          False   \n",
       "15    CBR      CIBUNGUR     2          1          False   \n",
       "17    CCL    CICALENGKA     2          1          False   \n",
       "18     CD  CIKADONGDONG     2          1          False   \n",
       "23    CKP      CIKAMPEK     2          1          False   \n",
       "26    CLE        CILAME     2          1          False   \n",
       "28    CMD       CIMINDI     2          1          False   \n",
       "29    CMI        CIMAHI     2          1          False   \n",
       "30    CMK       CIMEKAR     2          1          False   \n",
       "33    CTH  CIKUDAPATEUH     2          1          False   \n",
       "43    DWN        DAWUAN     2          1          False   \n",
       "44    GDB      GEDEBAGE     2          1          False   \n",
       "47     GK  GADOBANGKONG     2          1          False   \n",
       "48    GRT         GARUT     2          1          False   \n",
       "51    HRP     HAURPUGUR     2          1          False   \n",
       "58    KAC  KIARACONDONG     2          1          False   \n",
       "61    KDH   KEDUNGGEDEH     2          1          False   \n",
       "65    KLI         KLARI     2          1          False   \n",
       "68    KOS       KOSAMBI     2          1          False   \n",
       "70   KRAI    KARANGSARI     2          1          False   \n",
       "74     KW      KARAWANG     2          1          False   \n",
       "75    LBJ     LEBAKJERO     2          1          False   \n",
       "76     LL         LELES     2          1          False   \n",
       "77    LMB    LEMAHABANG     2          1          False   \n",
       "79     LO    LEUWIGOONG     2          1          False   \n",
       "85    MSI       MASWATI     2          1          False   \n",
       "87     NG        NAGREG     2          1          False   \n",
       "90    PDL    PADALARANG     2          1          False   \n",
       "93    PLD        PLERED     2          1          False   \n",
       "100   PSJ  PASIRJENGKOL     2          1          False   \n",
       "103   PWK    PURWAKARTA     2          1          False   \n",
       "105   RCK     RANCAEKEK     2          1          False   \n",
       "106    RH        RENDEH     2          1          False   \n",
       "113   SKT     SASAKSAAT     2          1          False   \n",
       "118   SUT      SUKATANI     2          1          False   \n",
       "135   WNR      WANARAJA     2          1          False   \n",
       "\n",
       "                   updated_at  \n",
       "3    2024-03-10T15:15:19.997Z  \n",
       "12   2024-03-10T15:15:19.997Z  \n",
       "13   2024-03-10T15:15:19.997Z  \n",
       "15   2024-03-10T15:15:19.997Z  \n",
       "17   2024-03-10T15:15:19.997Z  \n",
       "18   2024-03-10T15:15:19.997Z  \n",
       "23   2024-03-10T15:15:19.997Z  \n",
       "26   2024-03-10T15:15:19.997Z  \n",
       "28   2024-03-10T15:15:19.997Z  \n",
       "29   2024-03-10T15:15:19.997Z  \n",
       "30   2024-03-10T15:15:19.997Z  \n",
       "33   2024-03-10T15:15:19.997Z  \n",
       "43   2024-03-10T15:15:19.997Z  \n",
       "44   2024-03-10T15:15:19.997Z  \n",
       "47   2024-03-10T15:15:19.997Z  \n",
       "48   2024-03-10T15:15:19.997Z  \n",
       "51   2024-03-10T15:15:19.997Z  \n",
       "58   2024-03-10T15:15:19.997Z  \n",
       "61   2024-03-10T15:15:19.997Z  \n",
       "65   2024-03-10T15:15:19.997Z  \n",
       "68   2024-03-10T15:15:19.997Z  \n",
       "70   2024-03-10T15:15:19.997Z  \n",
       "74   2024-03-10T15:15:19.997Z  \n",
       "75   2024-03-10T15:15:19.997Z  \n",
       "76   2024-03-10T15:15:19.997Z  \n",
       "77   2024-03-10T15:15:19.997Z  \n",
       "79   2024-03-10T15:15:19.997Z  \n",
       "85   2024-03-10T15:15:19.997Z  \n",
       "87   2024-03-10T15:15:19.997Z  \n",
       "90   2024-03-10T15:15:19.997Z  \n",
       "93   2024-03-10T15:15:19.997Z  \n",
       "100  2024-03-10T15:15:19.997Z  \n",
       "103  2024-03-10T15:15:19.997Z  \n",
       "105  2024-03-10T15:15:19.997Z  \n",
       "106  2024-03-10T15:15:19.997Z  \n",
       "113  2024-03-10T15:15:19.997Z  \n",
       "118  2024-03-10T15:15:19.997Z  \n",
       "135  2024-03-10T15:15:19.997Z  "
      ]
     },
     "execution_count": 52,
     "metadata": {},
     "output_type": "execute_result"
    }
   ],
   "source": [
    "# melihat stasiun dari daop 2 -> wilayah BANDUNG\n",
    "station[station[\"daop\"] == 2]\n",
    "# daop 2 adalah stasiun yang tidak memiliki KRL"
   ]
  },
  {
   "cell_type": "code",
   "execution_count": 53,
   "metadata": {},
   "outputs": [
    {
     "data": {
      "text/html": [
       "<div>\n",
       "<style scoped>\n",
       "    .dataframe tbody tr th:only-of-type {\n",
       "        vertical-align: middle;\n",
       "    }\n",
       "\n",
       "    .dataframe tbody tr th {\n",
       "        vertical-align: top;\n",
       "    }\n",
       "\n",
       "    .dataframe thead th {\n",
       "        text-align: right;\n",
       "    }\n",
       "</style>\n",
       "<table border=\"1\" class=\"dataframe\">\n",
       "  <thead>\n",
       "    <tr style=\"text-align: right;\">\n",
       "      <th></th>\n",
       "      <th>id</th>\n",
       "      <th>name</th>\n",
       "      <th>daop</th>\n",
       "      <th>fg_enable</th>\n",
       "      <th>have_schedule</th>\n",
       "      <th>updated_at</th>\n",
       "    </tr>\n",
       "  </thead>\n",
       "  <tbody>\n",
       "    <tr>\n",
       "      <th>2</th>\n",
       "      <td>BBN</td>\n",
       "      <td>BRAMBANAN</td>\n",
       "      <td>6</td>\n",
       "      <td>1</td>\n",
       "      <td>True</td>\n",
       "      <td>2024-03-10T15:15:19.997Z</td>\n",
       "    </tr>\n",
       "    <tr>\n",
       "      <th>19</th>\n",
       "      <td>CE</td>\n",
       "      <td>CEPER</td>\n",
       "      <td>6</td>\n",
       "      <td>1</td>\n",
       "      <td>True</td>\n",
       "      <td>2024-03-10T15:15:19.997Z</td>\n",
       "    </tr>\n",
       "    <tr>\n",
       "      <th>38</th>\n",
       "      <td>DL</td>\n",
       "      <td>DELANGGU</td>\n",
       "      <td>6</td>\n",
       "      <td>1</td>\n",
       "      <td>True</td>\n",
       "      <td>2024-03-10T15:15:19.997Z</td>\n",
       "    </tr>\n",
       "    <tr>\n",
       "      <th>50</th>\n",
       "      <td>GW</td>\n",
       "      <td>GAWOK</td>\n",
       "      <td>6</td>\n",
       "      <td>1</td>\n",
       "      <td>True</td>\n",
       "      <td>2024-03-10T15:15:19.997Z</td>\n",
       "    </tr>\n",
       "    <tr>\n",
       "      <th>55</th>\n",
       "      <td>JN</td>\n",
       "      <td>JENAR</td>\n",
       "      <td>6</td>\n",
       "      <td>1</td>\n",
       "      <td>True</td>\n",
       "      <td>2024-03-10T15:15:19.997Z</td>\n",
       "    </tr>\n",
       "    <tr>\n",
       "      <th>72</th>\n",
       "      <td>KT</td>\n",
       "      <td>KLATEN</td>\n",
       "      <td>6</td>\n",
       "      <td>1</td>\n",
       "      <td>True</td>\n",
       "      <td>2024-03-10T15:15:19.997Z</td>\n",
       "    </tr>\n",
       "    <tr>\n",
       "      <th>73</th>\n",
       "      <td>KTA</td>\n",
       "      <td>KUTOARJO</td>\n",
       "      <td>6</td>\n",
       "      <td>1</td>\n",
       "      <td>True</td>\n",
       "      <td>2024-03-10T15:15:19.997Z</td>\n",
       "    </tr>\n",
       "    <tr>\n",
       "      <th>80</th>\n",
       "      <td>LPN</td>\n",
       "      <td>LEMPUYANGAN</td>\n",
       "      <td>6</td>\n",
       "      <td>1</td>\n",
       "      <td>True</td>\n",
       "      <td>2024-03-10T15:15:19.997Z</td>\n",
       "    </tr>\n",
       "    <tr>\n",
       "      <th>82</th>\n",
       "      <td>MGW</td>\n",
       "      <td>MAGUWO</td>\n",
       "      <td>6</td>\n",
       "      <td>1</td>\n",
       "      <td>True</td>\n",
       "      <td>2024-03-10T15:15:19.997Z</td>\n",
       "    </tr>\n",
       "    <tr>\n",
       "      <th>92</th>\n",
       "      <td>PL</td>\n",
       "      <td>PALUR</td>\n",
       "      <td>6</td>\n",
       "      <td>1</td>\n",
       "      <td>True</td>\n",
       "      <td>2024-03-10T15:15:19.997Z</td>\n",
       "    </tr>\n",
       "    <tr>\n",
       "      <th>104</th>\n",
       "      <td>PWS</td>\n",
       "      <td>PURWOSARI</td>\n",
       "      <td>6</td>\n",
       "      <td>1</td>\n",
       "      <td>True</td>\n",
       "      <td>2024-03-10T15:15:19.997Z</td>\n",
       "    </tr>\n",
       "    <tr>\n",
       "      <th>112</th>\n",
       "      <td>SK</td>\n",
       "      <td>SOLO JEBRES</td>\n",
       "      <td>6</td>\n",
       "      <td>1</td>\n",
       "      <td>True</td>\n",
       "      <td>2024-03-10T15:15:19.997Z</td>\n",
       "    </tr>\n",
       "    <tr>\n",
       "      <th>114</th>\n",
       "      <td>SLO</td>\n",
       "      <td>SOLO BALAPAN</td>\n",
       "      <td>6</td>\n",
       "      <td>1</td>\n",
       "      <td>True</td>\n",
       "      <td>2024-03-10T15:15:19.997Z</td>\n",
       "    </tr>\n",
       "    <tr>\n",
       "      <th>120</th>\n",
       "      <td>SWT</td>\n",
       "      <td>SROWOT</td>\n",
       "      <td>6</td>\n",
       "      <td>1</td>\n",
       "      <td>True</td>\n",
       "      <td>2024-03-10T15:15:19.997Z</td>\n",
       "    </tr>\n",
       "    <tr>\n",
       "      <th>134</th>\n",
       "      <td>WJ</td>\n",
       "      <td>WOJO</td>\n",
       "      <td>6</td>\n",
       "      <td>1</td>\n",
       "      <td>True</td>\n",
       "      <td>2024-03-10T15:15:19.997Z</td>\n",
       "    </tr>\n",
       "    <tr>\n",
       "      <th>136</th>\n",
       "      <td>WT</td>\n",
       "      <td>WATES</td>\n",
       "      <td>6</td>\n",
       "      <td>1</td>\n",
       "      <td>True</td>\n",
       "      <td>2024-03-10T15:15:19.997Z</td>\n",
       "    </tr>\n",
       "    <tr>\n",
       "      <th>137</th>\n",
       "      <td>YK</td>\n",
       "      <td>YOGYAKARTA</td>\n",
       "      <td>6</td>\n",
       "      <td>1</td>\n",
       "      <td>True</td>\n",
       "      <td>2024-03-10T15:15:19.997Z</td>\n",
       "    </tr>\n",
       "  </tbody>\n",
       "</table>\n",
       "</div>"
      ],
      "text/plain": [
       "      id          name  daop  fg_enable  have_schedule  \\\n",
       "2    BBN     BRAMBANAN     6          1           True   \n",
       "19    CE         CEPER     6          1           True   \n",
       "38    DL      DELANGGU     6          1           True   \n",
       "50    GW         GAWOK     6          1           True   \n",
       "55    JN         JENAR     6          1           True   \n",
       "72    KT        KLATEN     6          1           True   \n",
       "73   KTA      KUTOARJO     6          1           True   \n",
       "80   LPN   LEMPUYANGAN     6          1           True   \n",
       "82   MGW        MAGUWO     6          1           True   \n",
       "92    PL         PALUR     6          1           True   \n",
       "104  PWS     PURWOSARI     6          1           True   \n",
       "112   SK   SOLO JEBRES     6          1           True   \n",
       "114  SLO  SOLO BALAPAN     6          1           True   \n",
       "120  SWT        SROWOT     6          1           True   \n",
       "134   WJ          WOJO     6          1           True   \n",
       "136   WT         WATES     6          1           True   \n",
       "137   YK    YOGYAKARTA     6          1           True   \n",
       "\n",
       "                   updated_at  \n",
       "2    2024-03-10T15:15:19.997Z  \n",
       "19   2024-03-10T15:15:19.997Z  \n",
       "38   2024-03-10T15:15:19.997Z  \n",
       "50   2024-03-10T15:15:19.997Z  \n",
       "55   2024-03-10T15:15:19.997Z  \n",
       "72   2024-03-10T15:15:19.997Z  \n",
       "73   2024-03-10T15:15:19.997Z  \n",
       "80   2024-03-10T15:15:19.997Z  \n",
       "82   2024-03-10T15:15:19.997Z  \n",
       "92   2024-03-10T15:15:19.997Z  \n",
       "104  2024-03-10T15:15:19.997Z  \n",
       "112  2024-03-10T15:15:19.997Z  \n",
       "114  2024-03-10T15:15:19.997Z  \n",
       "120  2024-03-10T15:15:19.997Z  \n",
       "134  2024-03-10T15:15:19.997Z  \n",
       "136  2024-03-10T15:15:19.997Z  \n",
       "137  2024-03-10T15:15:19.997Z  "
      ]
     },
     "execution_count": 53,
     "metadata": {},
     "output_type": "execute_result"
    }
   ],
   "source": [
    "# melihat stasiun dari daop 6 -> wilayah COMMUTER LINE YOGYAKARTA\n",
    "station[station[\"daop\"] == 6]"
   ]
  },
  {
   "cell_type": "code",
   "execution_count": 54,
   "metadata": {},
   "outputs": [
    {
     "name": "stdout",
     "output_type": "stream",
     "text": [
      "Rata-rata kereta melewati berapa stasiun? : 14\n",
      "Berapa stasiun yang dilewati setiap kereta?\n"
     ]
    },
    {
     "data": {
      "text/plain": [
       "train_id\n",
       "1358B      23\n",
       "1272B      23\n",
       "1303B      23\n",
       "1302B      23\n",
       "1301B      23\n",
       "           ..\n",
       "304         1\n",
       "306         1\n",
       "312         1\n",
       "310         1\n",
       "D1/314A     1\n",
       "Name: station_name, Length: 1284, dtype: int64"
      ]
     },
     "execution_count": 54,
     "metadata": {},
     "output_type": "execute_result"
    }
   ],
   "source": [
    "# banyaknya train_id yang melewati stasiun\n",
    "train_station = df.groupby(\"train_id\")[\"station_name\"].nunique().sort_values(ascending=False)\n",
    "print(\"Rata-rata kereta melewati berapa stasiun? :\", round(train_station.mean()))\n",
    "print(\"Berapa stasiun yang dilewati setiap kereta?\")\n",
    "train_station"
   ]
  },
  {
   "cell_type": "markdown",
   "metadata": {},
   "source": [
    "## Konklusi\n",
    "\n",
    "KRL Commuter Line adalah sistem transportasi angkutan cepat komuter berbasis kereta rel listrik (KRL) yang dioperasikan oleh PT Kereta Commuter Indonesia (KAI Commuter) (Wikipedia). Pada data yang telah dieksplorasi, daerah operasional 2 (wilayah Bandung) tidak memiliki KRL yang beroperasi. Sementara itu, daerah operasional 1 (wilayah JABODETABEK) dan daerah operasional 6 (wilayah Yogyakarta) memiliki KRL yang beroperasi. Fokus kita adalah menganlisis daerah yang memiliki KRL. Adapun rekomendasi dari hasil analisis adalah sebagai berikut:\r\n",
    "\r\n",
    "1. Peak hours pukul 7-8 pagi dan 5-6 sore\r\n",
    "- menyediakan ketersiadaan kereta tambahan pada jam-jam tersebut.\r\n",
    "- untuk mengurangi penumpang, pihak terkait dapat menerapakan diskon di luar jam-jam puncak tersebut atau menawarkan promosi khusus untuk mendorong penumpang menyesuaikan waktu perjalanan mereka.\r\n",
    "- mengatur penjadwalan maintenance di luar jam-jam puncak.\r\n",
    "\r\n",
    "2. Stasiun tersibuk seperti manggarai, tanahabang, duri, dll.\r\n",
    "- menyediakan frekuensi kereta yang lebih banyak.\r\n",
    "- berkolabriasi dengan pihak eksternal untuk mengatasi atau mengurai kemacetan di daerah sekitar.\r\n",
    "- mengedukasi dan pemberian informasi yang lebih mudah diakses tentang jadwal kereta, rute, dan layanan kereta.\r\n",
    "- meningkatkan kualitas keamanan, seperti adanya CCTV, adanya pos pengaduan, dll.\r\n",
    "- mengadakan analisis kepuasan penumpang untuk mengevaluasi kegiatan operasional kereta.\r\n",
    "\r\n",
    "3. Distrubsi ketersediaan kereta by line\r\n",
    "- prioritas sumber daya yaitu jalur-jalur seperti Commuter Line Bogor, Cikarang, dan Rangkasbitung memegang persentase yang besar, mungkin penting untuk memprioritaskan alokasi sumber daya seperti kereta tambahan, staf stasiun tambahan, dan perawatan infrastruktur pada jalur-jalur ini untuk memastikan ketersediaan yang optimal dan kepuasan penumpang.\r\n",
    "- mengadakan analisis Kepuasan Penumpang: Dengan memantau data penumpang secara teratur, kita dapat melihat apakah distribusi jalur berdampak pada kepuasan penumpang. Jika ada ketidaksesuaian antara preferensi penumpang dan layanan yang disediakan, mungkin perlu dilakukan penyesuaian lebih lanjut."
   ]
  }
 ],
 "metadata": {
  "colab": {
   "provenance": [],
   "toc_visible": true
  },
  "kernelspec": {
   "display_name": "Python 3 (ipykernel)",
   "language": "python",
   "name": "python3"
  },
  "language_info": {
   "codemirror_mode": {
    "name": "ipython",
    "version": 3
   },
   "file_extension": ".py",
   "mimetype": "text/x-python",
   "name": "python",
   "nbconvert_exporter": "python",
   "pygments_lexer": "ipython3",
   "version": "3.11.5"
  }
 },
 "nbformat": 4,
 "nbformat_minor": 4
}
